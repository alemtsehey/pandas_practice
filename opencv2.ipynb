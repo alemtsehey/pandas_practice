{
 "cells": [
  {
   "cell_type": "code",
   "execution_count": 2,
   "id": "61911e16-ef2d-40cc-a1e6-fd351487c683",
   "metadata": {},
   "outputs": [],
   "source": [
    "import cv2"
   ]
  },
  {
   "cell_type": "code",
   "execution_count": 4,
   "id": "92d31cdb-d378-4249-a68a-37aa6e8c81f3",
   "metadata": {},
   "outputs": [],
   "source": [
    "#load an image\n",
    "image = cv2.imread('cat.png')"
   ]
  },
  {
   "cell_type": "code",
   "execution_count": 6,
   "id": "8213adff-7d5d-435d-a262-410864f84464",
   "metadata": {},
   "outputs": [],
   "source": [
    "#display the image\n",
    "cv2.imshow('Original Image',image)"
   ]
  },
  {
   "cell_type": "code",
   "execution_count": null,
   "id": "8e0fb2c0-aacf-43c9-a1e3-0f34b92a9009",
   "metadata": {},
   "outputs": [],
   "source": []
  }
 ],
 "metadata": {
  "kernelspec": {
   "display_name": "Python 3 (ipykernel)",
   "language": "python",
   "name": "python3"
  },
  "language_info": {
   "codemirror_mode": {
    "name": "ipython",
    "version": 3
   },
   "file_extension": ".py",
   "mimetype": "text/x-python",
   "name": "python",
   "nbconvert_exporter": "python",
   "pygments_lexer": "ipython3",
   "version": "3.12.4"
  }
 },
 "nbformat": 4,
 "nbformat_minor": 5
}
