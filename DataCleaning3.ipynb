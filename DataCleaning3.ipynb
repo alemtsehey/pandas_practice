{
 "cells": [
  {
   "cell_type": "code",
   "execution_count": 2,
   "id": "31c8bd9b-2a73-41ec-bee0-b149e2e4247e",
   "metadata": {},
   "outputs": [],
   "source": [
    "import pandas as pd # Data Manipulation\n",
    "import numpy as np #array based computation\n",
    "import matplotlib.pyplot as plt #visualization"
   ]
  },
  {
   "cell_type": "code",
   "execution_count": 94,
   "id": "485e8e63-2612-476a-9831-dd4f86eb952e",
   "metadata": {},
   "outputs": [
    {
     "data": {
      "text/html": [
       "<div>\n",
       "<style scoped>\n",
       "    .dataframe tbody tr th:only-of-type {\n",
       "        vertical-align: middle;\n",
       "    }\n",
       "\n",
       "    .dataframe tbody tr th {\n",
       "        vertical-align: top;\n",
       "    }\n",
       "\n",
       "    .dataframe thead th {\n",
       "        text-align: right;\n",
       "    }\n",
       "</style>\n",
       "<table border=\"1\" class=\"dataframe\">\n",
       "  <thead>\n",
       "    <tr style=\"text-align: right;\">\n",
       "      <th></th>\n",
       "      <th>Name</th>\n",
       "      <th>Age</th>\n",
       "      <th>Gender</th>\n",
       "      <th>Math_Score</th>\n",
       "      <th>Science_Score</th>\n",
       "      <th>English_Score</th>\n",
       "    </tr>\n",
       "  </thead>\n",
       "  <tbody>\n",
       "    <tr>\n",
       "      <th>0</th>\n",
       "      <td>John</td>\n",
       "      <td>17</td>\n",
       "      <td>M</td>\n",
       "      <td>85.0</td>\n",
       "      <td>78.0</td>\n",
       "      <td>NaN</td>\n",
       "    </tr>\n",
       "    <tr>\n",
       "      <th>1</th>\n",
       "      <td>Anna</td>\n",
       "      <td>16</td>\n",
       "      <td>F</td>\n",
       "      <td>90.0</td>\n",
       "      <td>NaN</td>\n",
       "      <td>89.0</td>\n",
       "    </tr>\n",
       "    <tr>\n",
       "      <th>2</th>\n",
       "      <td>Mike</td>\n",
       "      <td>18</td>\n",
       "      <td>M</td>\n",
       "      <td>75.0</td>\n",
       "      <td>80.0</td>\n",
       "      <td>76.0</td>\n",
       "    </tr>\n",
       "    <tr>\n",
       "      <th>3</th>\n",
       "      <td>Lucy</td>\n",
       "      <td>unknown</td>\n",
       "      <td>F</td>\n",
       "      <td>88.0</td>\n",
       "      <td>91.0</td>\n",
       "      <td>87.0</td>\n",
       "    </tr>\n",
       "    <tr>\n",
       "      <th>4</th>\n",
       "      <td>Tom</td>\n",
       "      <td>17</td>\n",
       "      <td>M</td>\n",
       "      <td>NaN</td>\n",
       "      <td>77.0</td>\n",
       "      <td>68.0</td>\n",
       "    </tr>\n",
       "    <tr>\n",
       "      <th>5</th>\n",
       "      <td>Eva</td>\n",
       "      <td>twenty</td>\n",
       "      <td>F</td>\n",
       "      <td>92.0</td>\n",
       "      <td>85.0</td>\n",
       "      <td>91.0</td>\n",
       "    </tr>\n",
       "    <tr>\n",
       "      <th>6</th>\n",
       "      <td>Ben</td>\n",
       "      <td>17</td>\n",
       "      <td>NaN</td>\n",
       "      <td>NaN</td>\n",
       "      <td>88.0</td>\n",
       "      <td>84.0</td>\n",
       "    </tr>\n",
       "    <tr>\n",
       "      <th>7</th>\n",
       "      <td>Sam</td>\n",
       "      <td>16</td>\n",
       "      <td>M</td>\n",
       "      <td>105.0</td>\n",
       "      <td>77.0</td>\n",
       "      <td>67.0</td>\n",
       "    </tr>\n",
       "  </tbody>\n",
       "</table>\n",
       "</div>"
      ],
      "text/plain": [
       "   Name      Age Gender  Math_Score  Science_Score  English_Score\n",
       "0  John       17      M        85.0           78.0            NaN\n",
       "1  Anna       16      F        90.0            NaN           89.0\n",
       "2  Mike       18      M        75.0           80.0           76.0\n",
       "3  Lucy  unknown      F        88.0           91.0           87.0\n",
       "4   Tom       17      M         NaN           77.0           68.0\n",
       "5   Eva   twenty      F        92.0           85.0           91.0\n",
       "6   Ben       17    NaN         NaN           88.0           84.0\n",
       "7   Sam       16      M       105.0           77.0           67.0"
      ]
     },
     "execution_count": 94,
     "metadata": {},
     "output_type": "execute_result"
    }
   ],
   "source": [
    "df = pd.read_csv('stddata.csv')\n",
    "df"
   ]
  },
  {
   "cell_type": "code",
   "execution_count": 14,
   "id": "0f00f8b9-d711-4484-84bd-1541054ac83c",
   "metadata": {},
   "outputs": [
    {
     "data": {
      "text/plain": [
       "Index(['Name', 'Age', 'Gender', 'Math_Score', 'Science_Score',\n",
       "       'English_Score'],\n",
       "      dtype='object')"
      ]
     },
     "execution_count": 14,
     "metadata": {},
     "output_type": "execute_result"
    }
   ],
   "source": [
    "df.columns"
   ]
  },
  {
   "cell_type": "code",
   "execution_count": 6,
   "id": "42029232-c91f-45d3-aeae-bc1567beb90a",
   "metadata": {},
   "outputs": [
    {
     "data": {
      "text/plain": [
       "(8, 6)"
      ]
     },
     "execution_count": 6,
     "metadata": {},
     "output_type": "execute_result"
    }
   ],
   "source": [
    "\n",
    "df.shape"
   ]
  },
  {
   "cell_type": "code",
   "execution_count": 8,
   "id": "ac64dece-9652-4616-b146-338664e5504a",
   "metadata": {},
   "outputs": [
    {
     "name": "stdout",
     "output_type": "stream",
     "text": [
      "<class 'pandas.core.frame.DataFrame'>\n",
      "RangeIndex: 8 entries, 0 to 7\n",
      "Data columns (total 6 columns):\n",
      " #   Column         Non-Null Count  Dtype  \n",
      "---  ------         --------------  -----  \n",
      " 0   Name           8 non-null      object \n",
      " 1   Age            8 non-null      object \n",
      " 2   Gender         7 non-null      object \n",
      " 3   Math_Score     6 non-null      float64\n",
      " 4   Science_Score  7 non-null      float64\n",
      " 5   English_Score  7 non-null      float64\n",
      "dtypes: float64(3), object(3)\n",
      "memory usage: 516.0+ bytes\n"
     ]
    }
   ],
   "source": [
    "df.info()"
   ]
  },
  {
   "cell_type": "code",
   "execution_count": 10,
   "id": "6a84e8bd-9097-4f89-a067-98b70191e707",
   "metadata": {},
   "outputs": [
    {
     "data": {
      "text/html": [
       "<div>\n",
       "<style scoped>\n",
       "    .dataframe tbody tr th:only-of-type {\n",
       "        vertical-align: middle;\n",
       "    }\n",
       "\n",
       "    .dataframe tbody tr th {\n",
       "        vertical-align: top;\n",
       "    }\n",
       "\n",
       "    .dataframe thead th {\n",
       "        text-align: right;\n",
       "    }\n",
       "</style>\n",
       "<table border=\"1\" class=\"dataframe\">\n",
       "  <thead>\n",
       "    <tr style=\"text-align: right;\">\n",
       "      <th></th>\n",
       "      <th>Math_Score</th>\n",
       "      <th>Science_Score</th>\n",
       "      <th>English_Score</th>\n",
       "    </tr>\n",
       "  </thead>\n",
       "  <tbody>\n",
       "    <tr>\n",
       "      <th>count</th>\n",
       "      <td>6.000000</td>\n",
       "      <td>7.000000</td>\n",
       "      <td>7.000000</td>\n",
       "    </tr>\n",
       "    <tr>\n",
       "      <th>mean</th>\n",
       "      <td>89.166667</td>\n",
       "      <td>82.285714</td>\n",
       "      <td>80.285714</td>\n",
       "    </tr>\n",
       "    <tr>\n",
       "      <th>std</th>\n",
       "      <td>9.786044</td>\n",
       "      <td>5.707138</td>\n",
       "      <td>9.961832</td>\n",
       "    </tr>\n",
       "    <tr>\n",
       "      <th>min</th>\n",
       "      <td>75.000000</td>\n",
       "      <td>77.000000</td>\n",
       "      <td>67.000000</td>\n",
       "    </tr>\n",
       "    <tr>\n",
       "      <th>25%</th>\n",
       "      <td>85.750000</td>\n",
       "      <td>77.500000</td>\n",
       "      <td>72.000000</td>\n",
       "    </tr>\n",
       "    <tr>\n",
       "      <th>50%</th>\n",
       "      <td>89.000000</td>\n",
       "      <td>80.000000</td>\n",
       "      <td>84.000000</td>\n",
       "    </tr>\n",
       "    <tr>\n",
       "      <th>75%</th>\n",
       "      <td>91.500000</td>\n",
       "      <td>86.500000</td>\n",
       "      <td>88.000000</td>\n",
       "    </tr>\n",
       "    <tr>\n",
       "      <th>max</th>\n",
       "      <td>105.000000</td>\n",
       "      <td>91.000000</td>\n",
       "      <td>91.000000</td>\n",
       "    </tr>\n",
       "  </tbody>\n",
       "</table>\n",
       "</div>"
      ],
      "text/plain": [
       "       Math_Score  Science_Score  English_Score\n",
       "count    6.000000       7.000000       7.000000\n",
       "mean    89.166667      82.285714      80.285714\n",
       "std      9.786044       5.707138       9.961832\n",
       "min     75.000000      77.000000      67.000000\n",
       "25%     85.750000      77.500000      72.000000\n",
       "50%     89.000000      80.000000      84.000000\n",
       "75%     91.500000      86.500000      88.000000\n",
       "max    105.000000      91.000000      91.000000"
      ]
     },
     "execution_count": 10,
     "metadata": {},
     "output_type": "execute_result"
    }
   ],
   "source": [
    "df.describe() #statistics "
   ]
  },
  {
   "cell_type": "markdown",
   "id": "3bbcac8d-62ef-489c-bbb8-0b7e2fd4e69e",
   "metadata": {},
   "source": [
    "**inspecting the dataset - Exploratory**"
   ]
  },
  {
   "cell_type": "code",
   "execution_count": 11,
   "id": "31b81443-6b2d-47a9-a153-9ed695d56be6",
   "metadata": {},
   "outputs": [
    {
     "data": {
      "text/plain": [
       "(8, 6)"
      ]
     },
     "execution_count": 11,
     "metadata": {},
     "output_type": "execute_result"
    }
   ],
   "source": [
    "df.shape"
   ]
  },
  {
   "cell_type": "code",
   "execution_count": 13,
   "id": "7541aa74-d646-436f-868d-55f882c2aebd",
   "metadata": {},
   "outputs": [
    {
     "data": {
      "text/html": [
       "<div>\n",
       "<style scoped>\n",
       "    .dataframe tbody tr th:only-of-type {\n",
       "        vertical-align: middle;\n",
       "    }\n",
       "\n",
       "    .dataframe tbody tr th {\n",
       "        vertical-align: top;\n",
       "    }\n",
       "\n",
       "    .dataframe thead th {\n",
       "        text-align: right;\n",
       "    }\n",
       "</style>\n",
       "<table border=\"1\" class=\"dataframe\">\n",
       "  <thead>\n",
       "    <tr style=\"text-align: right;\">\n",
       "      <th></th>\n",
       "      <th>Math_Score</th>\n",
       "      <th>Science_Score</th>\n",
       "      <th>English_Score</th>\n",
       "    </tr>\n",
       "  </thead>\n",
       "  <tbody>\n",
       "    <tr>\n",
       "      <th>count</th>\n",
       "      <td>6.000000</td>\n",
       "      <td>7.000000</td>\n",
       "      <td>7.000000</td>\n",
       "    </tr>\n",
       "    <tr>\n",
       "      <th>mean</th>\n",
       "      <td>89.166667</td>\n",
       "      <td>82.285714</td>\n",
       "      <td>80.285714</td>\n",
       "    </tr>\n",
       "    <tr>\n",
       "      <th>std</th>\n",
       "      <td>9.786044</td>\n",
       "      <td>5.707138</td>\n",
       "      <td>9.961832</td>\n",
       "    </tr>\n",
       "    <tr>\n",
       "      <th>min</th>\n",
       "      <td>75.000000</td>\n",
       "      <td>77.000000</td>\n",
       "      <td>67.000000</td>\n",
       "    </tr>\n",
       "    <tr>\n",
       "      <th>25%</th>\n",
       "      <td>85.750000</td>\n",
       "      <td>77.500000</td>\n",
       "      <td>72.000000</td>\n",
       "    </tr>\n",
       "    <tr>\n",
       "      <th>50%</th>\n",
       "      <td>89.000000</td>\n",
       "      <td>80.000000</td>\n",
       "      <td>84.000000</td>\n",
       "    </tr>\n",
       "    <tr>\n",
       "      <th>75%</th>\n",
       "      <td>91.500000</td>\n",
       "      <td>86.500000</td>\n",
       "      <td>88.000000</td>\n",
       "    </tr>\n",
       "    <tr>\n",
       "      <th>max</th>\n",
       "      <td>105.000000</td>\n",
       "      <td>91.000000</td>\n",
       "      <td>91.000000</td>\n",
       "    </tr>\n",
       "  </tbody>\n",
       "</table>\n",
       "</div>"
      ],
      "text/plain": [
       "       Math_Score  Science_Score  English_Score\n",
       "count    6.000000       7.000000       7.000000\n",
       "mean    89.166667      82.285714      80.285714\n",
       "std      9.786044       5.707138       9.961832\n",
       "min     75.000000      77.000000      67.000000\n",
       "25%     85.750000      77.500000      72.000000\n",
       "50%     89.000000      80.000000      84.000000\n",
       "75%     91.500000      86.500000      88.000000\n",
       "max    105.000000      91.000000      91.000000"
      ]
     },
     "execution_count": 13,
     "metadata": {},
     "output_type": "execute_result"
    }
   ],
   "source": [
    "df.describe() # Display summary statistics of the dataset"
   ]
  },
  {
   "cell_type": "code",
   "execution_count": 15,
   "id": "97e676d1-b5fe-4857-9549-f10665a0e672",
   "metadata": {},
   "outputs": [
    {
     "name": "stdout",
     "output_type": "stream",
     "text": [
      "<class 'pandas.core.frame.DataFrame'>\n",
      "RangeIndex: 8 entries, 0 to 7\n",
      "Data columns (total 6 columns):\n",
      " #   Column         Non-Null Count  Dtype  \n",
      "---  ------         --------------  -----  \n",
      " 0   Name           8 non-null      object \n",
      " 1   Age            8 non-null      object \n",
      " 2   Gender         7 non-null      object \n",
      " 3   Math_Score     6 non-null      float64\n",
      " 4   Science_Score  7 non-null      float64\n",
      " 5   English_Score  7 non-null      float64\n",
      "dtypes: float64(3), object(3)\n",
      "memory usage: 516.0+ bytes\n"
     ]
    }
   ],
   "source": [
    "df.info() #Display basic information about the dataset"
   ]
  },
  {
   "cell_type": "code",
   "execution_count": 17,
   "id": "07a54ac6-0e22-423b-8112-e28ecc11c99e",
   "metadata": {},
   "outputs": [
    {
     "data": {
      "text/plain": [
       "Name              object\n",
       "Age               object\n",
       "Gender            object\n",
       "Math_Score       float64\n",
       "Science_Score    float64\n",
       "English_Score    float64\n",
       "dtype: object"
      ]
     },
     "execution_count": 17,
     "metadata": {},
     "output_type": "execute_result"
    }
   ],
   "source": [
    "df.dtypes"
   ]
  },
  {
   "cell_type": "code",
   "execution_count": 19,
   "id": "9d887eb0-6ebe-4937-9d7a-56aa244e22c3",
   "metadata": {},
   "outputs": [
    {
     "data": {
      "text/plain": [
       "Index(['Name', 'Age', 'Gender', 'Math_Score', 'Science_Score',\n",
       "       'English_Score'],\n",
       "      dtype='object')"
      ]
     },
     "execution_count": 19,
     "metadata": {},
     "output_type": "execute_result"
    }
   ],
   "source": [
    "df.columns"
   ]
  },
  {
   "cell_type": "code",
   "execution_count": 16,
   "id": "b23c8d8f-1777-4802-a576-bea86978e36f",
   "metadata": {},
   "outputs": [
    {
     "data": {
      "text/html": [
       "<div>\n",
       "<style scoped>\n",
       "    .dataframe tbody tr th:only-of-type {\n",
       "        vertical-align: middle;\n",
       "    }\n",
       "\n",
       "    .dataframe tbody tr th {\n",
       "        vertical-align: top;\n",
       "    }\n",
       "\n",
       "    .dataframe thead th {\n",
       "        text-align: right;\n",
       "    }\n",
       "</style>\n",
       "<table border=\"1\" class=\"dataframe\">\n",
       "  <thead>\n",
       "    <tr style=\"text-align: right;\">\n",
       "      <th></th>\n",
       "      <th>Name</th>\n",
       "      <th>Age</th>\n",
       "      <th>Gender</th>\n",
       "      <th>Math_Score</th>\n",
       "      <th>Science_Score</th>\n",
       "      <th>English_Score</th>\n",
       "    </tr>\n",
       "  </thead>\n",
       "  <tbody>\n",
       "    <tr>\n",
       "      <th>0</th>\n",
       "      <td>John</td>\n",
       "      <td>17</td>\n",
       "      <td>M</td>\n",
       "      <td>85.0</td>\n",
       "      <td>78.0</td>\n",
       "      <td>NaN</td>\n",
       "    </tr>\n",
       "    <tr>\n",
       "      <th>1</th>\n",
       "      <td>Anna</td>\n",
       "      <td>16</td>\n",
       "      <td>F</td>\n",
       "      <td>90.0</td>\n",
       "      <td>NaN</td>\n",
       "      <td>89.0</td>\n",
       "    </tr>\n",
       "    <tr>\n",
       "      <th>2</th>\n",
       "      <td>Mike</td>\n",
       "      <td>18</td>\n",
       "      <td>M</td>\n",
       "      <td>75.0</td>\n",
       "      <td>80.0</td>\n",
       "      <td>76.0</td>\n",
       "    </tr>\n",
       "    <tr>\n",
       "      <th>3</th>\n",
       "      <td>Lucy</td>\n",
       "      <td>unknown</td>\n",
       "      <td>F</td>\n",
       "      <td>88.0</td>\n",
       "      <td>91.0</td>\n",
       "      <td>87.0</td>\n",
       "    </tr>\n",
       "    <tr>\n",
       "      <th>4</th>\n",
       "      <td>Tom</td>\n",
       "      <td>17</td>\n",
       "      <td>M</td>\n",
       "      <td>NaN</td>\n",
       "      <td>77.0</td>\n",
       "      <td>68.0</td>\n",
       "    </tr>\n",
       "    <tr>\n",
       "      <th>5</th>\n",
       "      <td>Eva</td>\n",
       "      <td>twenty</td>\n",
       "      <td>F</td>\n",
       "      <td>92.0</td>\n",
       "      <td>85.0</td>\n",
       "      <td>91.0</td>\n",
       "    </tr>\n",
       "    <tr>\n",
       "      <th>6</th>\n",
       "      <td>Ben</td>\n",
       "      <td>17</td>\n",
       "      <td>NaN</td>\n",
       "      <td>NaN</td>\n",
       "      <td>88.0</td>\n",
       "      <td>84.0</td>\n",
       "    </tr>\n",
       "    <tr>\n",
       "      <th>7</th>\n",
       "      <td>Sam</td>\n",
       "      <td>16</td>\n",
       "      <td>M</td>\n",
       "      <td>105.0</td>\n",
       "      <td>77.0</td>\n",
       "      <td>67.0</td>\n",
       "    </tr>\n",
       "  </tbody>\n",
       "</table>\n",
       "</div>"
      ],
      "text/plain": [
       "   Name      Age Gender  Math_Score  Science_Score  English_Score\n",
       "0  John       17      M        85.0           78.0            NaN\n",
       "1  Anna       16      F        90.0            NaN           89.0\n",
       "2  Mike       18      M        75.0           80.0           76.0\n",
       "3  Lucy  unknown      F        88.0           91.0           87.0\n",
       "4   Tom       17      M         NaN           77.0           68.0\n",
       "5   Eva   twenty      F        92.0           85.0           91.0\n",
       "6   Ben       17    NaN         NaN           88.0           84.0\n",
       "7   Sam       16      M       105.0           77.0           67.0"
      ]
     },
     "execution_count": 16,
     "metadata": {},
     "output_type": "execute_result"
    }
   ],
   "source": [
    "df"
   ]
  },
  {
   "cell_type": "markdown",
   "id": "bb5538ce-45e2-4f3a-9b64-121d47136a75",
   "metadata": {},
   "source": [
    "**Handle Missing Values**"
   ]
  },
  {
   "cell_type": "markdown",
   "id": "5aba30f5-5cd8-4863-bbfc-903f4ab81da3",
   "metadata": {},
   "source": [
    "**Check for missing values**"
   ]
  },
  {
   "cell_type": "code",
   "execution_count": 32,
   "id": "ec87686e-03b9-44e4-9804-8425594dbf9e",
   "metadata": {},
   "outputs": [
    {
     "data": {
      "text/html": [
       "<div>\n",
       "<style scoped>\n",
       "    .dataframe tbody tr th:only-of-type {\n",
       "        vertical-align: middle;\n",
       "    }\n",
       "\n",
       "    .dataframe tbody tr th {\n",
       "        vertical-align: top;\n",
       "    }\n",
       "\n",
       "    .dataframe thead th {\n",
       "        text-align: right;\n",
       "    }\n",
       "</style>\n",
       "<table border=\"1\" class=\"dataframe\">\n",
       "  <thead>\n",
       "    <tr style=\"text-align: right;\">\n",
       "      <th></th>\n",
       "      <th>Name</th>\n",
       "      <th>Age</th>\n",
       "      <th>Gender</th>\n",
       "      <th>Math_Score</th>\n",
       "      <th>Science_Score</th>\n",
       "      <th>English_Score</th>\n",
       "    </tr>\n",
       "  </thead>\n",
       "  <tbody>\n",
       "    <tr>\n",
       "      <th>0</th>\n",
       "      <td>False</td>\n",
       "      <td>False</td>\n",
       "      <td>False</td>\n",
       "      <td>False</td>\n",
       "      <td>False</td>\n",
       "      <td>True</td>\n",
       "    </tr>\n",
       "    <tr>\n",
       "      <th>1</th>\n",
       "      <td>False</td>\n",
       "      <td>False</td>\n",
       "      <td>False</td>\n",
       "      <td>False</td>\n",
       "      <td>True</td>\n",
       "      <td>False</td>\n",
       "    </tr>\n",
       "    <tr>\n",
       "      <th>2</th>\n",
       "      <td>False</td>\n",
       "      <td>False</td>\n",
       "      <td>False</td>\n",
       "      <td>False</td>\n",
       "      <td>False</td>\n",
       "      <td>False</td>\n",
       "    </tr>\n",
       "    <tr>\n",
       "      <th>3</th>\n",
       "      <td>False</td>\n",
       "      <td>False</td>\n",
       "      <td>False</td>\n",
       "      <td>False</td>\n",
       "      <td>False</td>\n",
       "      <td>False</td>\n",
       "    </tr>\n",
       "    <tr>\n",
       "      <th>4</th>\n",
       "      <td>False</td>\n",
       "      <td>False</td>\n",
       "      <td>False</td>\n",
       "      <td>True</td>\n",
       "      <td>False</td>\n",
       "      <td>False</td>\n",
       "    </tr>\n",
       "    <tr>\n",
       "      <th>5</th>\n",
       "      <td>False</td>\n",
       "      <td>False</td>\n",
       "      <td>False</td>\n",
       "      <td>False</td>\n",
       "      <td>False</td>\n",
       "      <td>False</td>\n",
       "    </tr>\n",
       "    <tr>\n",
       "      <th>6</th>\n",
       "      <td>False</td>\n",
       "      <td>False</td>\n",
       "      <td>True</td>\n",
       "      <td>True</td>\n",
       "      <td>False</td>\n",
       "      <td>False</td>\n",
       "    </tr>\n",
       "    <tr>\n",
       "      <th>7</th>\n",
       "      <td>False</td>\n",
       "      <td>False</td>\n",
       "      <td>False</td>\n",
       "      <td>False</td>\n",
       "      <td>False</td>\n",
       "      <td>False</td>\n",
       "    </tr>\n",
       "  </tbody>\n",
       "</table>\n",
       "</div>"
      ],
      "text/plain": [
       "    Name    Age  Gender  Math_Score  Science_Score  English_Score\n",
       "0  False  False   False       False          False           True\n",
       "1  False  False   False       False           True          False\n",
       "2  False  False   False       False          False          False\n",
       "3  False  False   False       False          False          False\n",
       "4  False  False   False        True          False          False\n",
       "5  False  False   False       False          False          False\n",
       "6  False  False    True        True          False          False\n",
       "7  False  False   False       False          False          False"
      ]
     },
     "execution_count": 32,
     "metadata": {},
     "output_type": "execute_result"
    }
   ],
   "source": [
    "df.isna()"
   ]
  },
  {
   "cell_type": "code",
   "execution_count": 70,
   "id": "8f8634cd-a620-47c1-9240-5b1dffe0fe2c",
   "metadata": {},
   "outputs": [
    {
     "data": {
      "text/plain": [
       "Name             0\n",
       "Age              0\n",
       "Gender           1\n",
       "Math_Score       2\n",
       "Science_Score    1\n",
       "English_Score    1\n",
       "dtype: int64"
      ]
     },
     "execution_count": 70,
     "metadata": {},
     "output_type": "execute_result"
    }
   ],
   "source": [
    "df.isnull().sum() #Counting Missing Values"
   ]
  },
  {
   "cell_type": "code",
   "execution_count": 36,
   "id": "20f2d282-6268-4ec0-a2fe-52b541a423f5",
   "metadata": {},
   "outputs": [
    {
     "data": {
      "text/html": [
       "<div>\n",
       "<style scoped>\n",
       "    .dataframe tbody tr th:only-of-type {\n",
       "        vertical-align: middle;\n",
       "    }\n",
       "\n",
       "    .dataframe tbody tr th {\n",
       "        vertical-align: top;\n",
       "    }\n",
       "\n",
       "    .dataframe thead th {\n",
       "        text-align: right;\n",
       "    }\n",
       "</style>\n",
       "<table border=\"1\" class=\"dataframe\">\n",
       "  <thead>\n",
       "    <tr style=\"text-align: right;\">\n",
       "      <th></th>\n",
       "      <th>Name</th>\n",
       "      <th>Age</th>\n",
       "      <th>Gender</th>\n",
       "      <th>Math_Score</th>\n",
       "      <th>Science_Score</th>\n",
       "      <th>English_Score</th>\n",
       "    </tr>\n",
       "  </thead>\n",
       "  <tbody>\n",
       "    <tr>\n",
       "      <th>0</th>\n",
       "      <td>John</td>\n",
       "      <td>17</td>\n",
       "      <td>M</td>\n",
       "      <td>85.0</td>\n",
       "      <td>78.0</td>\n",
       "      <td>NaN</td>\n",
       "    </tr>\n",
       "    <tr>\n",
       "      <th>1</th>\n",
       "      <td>Anna</td>\n",
       "      <td>16</td>\n",
       "      <td>F</td>\n",
       "      <td>90.0</td>\n",
       "      <td>NaN</td>\n",
       "      <td>89.0</td>\n",
       "    </tr>\n",
       "    <tr>\n",
       "      <th>2</th>\n",
       "      <td>Mike</td>\n",
       "      <td>18</td>\n",
       "      <td>M</td>\n",
       "      <td>75.0</td>\n",
       "      <td>80.0</td>\n",
       "      <td>76.0</td>\n",
       "    </tr>\n",
       "    <tr>\n",
       "      <th>3</th>\n",
       "      <td>Lucy</td>\n",
       "      <td>unknown</td>\n",
       "      <td>F</td>\n",
       "      <td>88.0</td>\n",
       "      <td>91.0</td>\n",
       "      <td>87.0</td>\n",
       "    </tr>\n",
       "    <tr>\n",
       "      <th>4</th>\n",
       "      <td>Tom</td>\n",
       "      <td>17</td>\n",
       "      <td>M</td>\n",
       "      <td>NaN</td>\n",
       "      <td>77.0</td>\n",
       "      <td>68.0</td>\n",
       "    </tr>\n",
       "    <tr>\n",
       "      <th>5</th>\n",
       "      <td>Eva</td>\n",
       "      <td>twenty</td>\n",
       "      <td>F</td>\n",
       "      <td>92.0</td>\n",
       "      <td>85.0</td>\n",
       "      <td>91.0</td>\n",
       "    </tr>\n",
       "    <tr>\n",
       "      <th>6</th>\n",
       "      <td>Ben</td>\n",
       "      <td>17</td>\n",
       "      <td>NaN</td>\n",
       "      <td>NaN</td>\n",
       "      <td>88.0</td>\n",
       "      <td>84.0</td>\n",
       "    </tr>\n",
       "    <tr>\n",
       "      <th>7</th>\n",
       "      <td>Sam</td>\n",
       "      <td>16</td>\n",
       "      <td>M</td>\n",
       "      <td>105.0</td>\n",
       "      <td>77.0</td>\n",
       "      <td>67.0</td>\n",
       "    </tr>\n",
       "  </tbody>\n",
       "</table>\n",
       "</div>"
      ],
      "text/plain": [
       "   Name      Age Gender  Math_Score  Science_Score  English_Score\n",
       "0  John       17      M        85.0           78.0            NaN\n",
       "1  Anna       16      F        90.0            NaN           89.0\n",
       "2  Mike       18      M        75.0           80.0           76.0\n",
       "3  Lucy  unknown      F        88.0           91.0           87.0\n",
       "4   Tom       17      M         NaN           77.0           68.0\n",
       "5   Eva   twenty      F        92.0           85.0           91.0\n",
       "6   Ben       17    NaN         NaN           88.0           84.0\n",
       "7   Sam       16      M       105.0           77.0           67.0"
      ]
     },
     "execution_count": 36,
     "metadata": {},
     "output_type": "execute_result"
    }
   ],
   "source": [
    "df"
   ]
  },
  {
   "cell_type": "code",
   "execution_count": 42,
   "id": "823836e3-026e-4139-be65-cb313a5a810e",
   "metadata": {},
   "outputs": [
    {
     "data": {
      "text/plain": [
       "Name              object\n",
       "Age               object\n",
       "Gender            object\n",
       "Math_Score       float64\n",
       "Science_Score    float64\n",
       "English_Score    float64\n",
       "dtype: object"
      ]
     },
     "execution_count": 42,
     "metadata": {},
     "output_type": "execute_result"
    }
   ],
   "source": [
    "df.dtypes #Columns with mixed types are stored with the object dtype"
   ]
  },
  {
   "cell_type": "markdown",
   "id": "9976afaa-1b0d-4c16-a083-bb7a26eec59c",
   "metadata": {},
   "source": [
    "**Data conversion**"
   ]
  },
  {
   "cell_type": "code",
   "execution_count": 96,
   "id": "0aeea337-8b24-4749-834d-ea00cf401b2a",
   "metadata": {},
   "outputs": [
    {
     "data": {
      "text/plain": [
       "Name              object\n",
       "Age              float64\n",
       "Gender            object\n",
       "Math_Score       float64\n",
       "Science_Score    float64\n",
       "English_Score    float64\n",
       "dtype: object"
      ]
     },
     "execution_count": 96,
     "metadata": {},
     "output_type": "execute_result"
    }
   ],
   "source": [
    "#convert 'Age' column to numeric\n",
    "df['Age'] = pd.to_numeric(df['Age'], errors = 'coerce')\n",
    "df.dtypes"
   ]
  },
  {
   "cell_type": "code",
   "execution_count": 74,
   "id": "8d615765-e696-43c9-b1fb-e0c4d5f30a2e",
   "metadata": {},
   "outputs": [
    {
     "data": {
      "text/html": [
       "<div>\n",
       "<style scoped>\n",
       "    .dataframe tbody tr th:only-of-type {\n",
       "        vertical-align: middle;\n",
       "    }\n",
       "\n",
       "    .dataframe tbody tr th {\n",
       "        vertical-align: top;\n",
       "    }\n",
       "\n",
       "    .dataframe thead th {\n",
       "        text-align: right;\n",
       "    }\n",
       "</style>\n",
       "<table border=\"1\" class=\"dataframe\">\n",
       "  <thead>\n",
       "    <tr style=\"text-align: right;\">\n",
       "      <th></th>\n",
       "      <th>Name</th>\n",
       "      <th>Age</th>\n",
       "      <th>Gender</th>\n",
       "      <th>Math_Score</th>\n",
       "      <th>Science_Score</th>\n",
       "      <th>English_Score</th>\n",
       "    </tr>\n",
       "  </thead>\n",
       "  <tbody>\n",
       "    <tr>\n",
       "      <th>0</th>\n",
       "      <td>John</td>\n",
       "      <td>17.0</td>\n",
       "      <td>M</td>\n",
       "      <td>85.0</td>\n",
       "      <td>78.0</td>\n",
       "      <td>NaN</td>\n",
       "    </tr>\n",
       "    <tr>\n",
       "      <th>1</th>\n",
       "      <td>Anna</td>\n",
       "      <td>16.0</td>\n",
       "      <td>F</td>\n",
       "      <td>90.0</td>\n",
       "      <td>NaN</td>\n",
       "      <td>89.0</td>\n",
       "    </tr>\n",
       "    <tr>\n",
       "      <th>2</th>\n",
       "      <td>Mike</td>\n",
       "      <td>18.0</td>\n",
       "      <td>M</td>\n",
       "      <td>75.0</td>\n",
       "      <td>80.0</td>\n",
       "      <td>76.0</td>\n",
       "    </tr>\n",
       "    <tr>\n",
       "      <th>3</th>\n",
       "      <td>Lucy</td>\n",
       "      <td>NaN</td>\n",
       "      <td>F</td>\n",
       "      <td>88.0</td>\n",
       "      <td>91.0</td>\n",
       "      <td>87.0</td>\n",
       "    </tr>\n",
       "    <tr>\n",
       "      <th>4</th>\n",
       "      <td>Tom</td>\n",
       "      <td>17.0</td>\n",
       "      <td>M</td>\n",
       "      <td>NaN</td>\n",
       "      <td>77.0</td>\n",
       "      <td>68.0</td>\n",
       "    </tr>\n",
       "    <tr>\n",
       "      <th>5</th>\n",
       "      <td>Eva</td>\n",
       "      <td>NaN</td>\n",
       "      <td>F</td>\n",
       "      <td>92.0</td>\n",
       "      <td>85.0</td>\n",
       "      <td>91.0</td>\n",
       "    </tr>\n",
       "    <tr>\n",
       "      <th>6</th>\n",
       "      <td>Ben</td>\n",
       "      <td>17.0</td>\n",
       "      <td>NaN</td>\n",
       "      <td>NaN</td>\n",
       "      <td>88.0</td>\n",
       "      <td>84.0</td>\n",
       "    </tr>\n",
       "    <tr>\n",
       "      <th>7</th>\n",
       "      <td>Sam</td>\n",
       "      <td>16.0</td>\n",
       "      <td>M</td>\n",
       "      <td>105.0</td>\n",
       "      <td>77.0</td>\n",
       "      <td>67.0</td>\n",
       "    </tr>\n",
       "  </tbody>\n",
       "</table>\n",
       "</div>"
      ],
      "text/plain": [
       "   Name   Age Gender  Math_Score  Science_Score  English_Score\n",
       "0  John  17.0      M        85.0           78.0            NaN\n",
       "1  Anna  16.0      F        90.0            NaN           89.0\n",
       "2  Mike  18.0      M        75.0           80.0           76.0\n",
       "3  Lucy   NaN      F        88.0           91.0           87.0\n",
       "4   Tom  17.0      M         NaN           77.0           68.0\n",
       "5   Eva   NaN      F        92.0           85.0           91.0\n",
       "6   Ben  17.0    NaN         NaN           88.0           84.0\n",
       "7   Sam  16.0      M       105.0           77.0           67.0"
      ]
     },
     "execution_count": 74,
     "metadata": {},
     "output_type": "execute_result"
    }
   ],
   "source": [
    "df"
   ]
  },
  {
   "cell_type": "markdown",
   "id": "0bd0ec56-b2bc-4320-89f3-bc6b76b6b04d",
   "metadata": {},
   "source": [
    "> **Data Type Conversion**: This line of code converts the 'Age' column from its current data type (which could be string, object, or any other type) to a numeric data type, specifically a float or an integer.\n",
    "> **Handling of Non-Numeric Values**: The **errors='coerce'** parameter tells pandas to replace any non-numeric values in the 'Age' column with NaN (Not a Number) values, instead of raising an error."
   ]
  },
  {
   "cell_type": "markdown",
   "id": "3b778794-d607-40d0-98f3-f9859d239f58",
   "metadata": {},
   "source": [
    "**The key benefits of this conversion are:**\n",
    "\n",
    "* **Consistent Data Type**: Ensuring that the 'Age' column has a consistent numeric data type, which is important for many data analysis and machine learning tasks.\n",
    "\n",
    "* **Handling of Inconsistent Data**: By replacing non-numeric values with NaN, this step helps to handle any inconsistencies or irregularities in the 'Age' data, making it easier to deal with missing values in subsequent data cleaning and preprocessing steps.\n",
    "\n",
    "* **Preparation for Numeric Operations**: Once the 'Age' column is converted to a numeric data type, you can perform various numeric operations on it, such as calculating the mean, median, or standard deviation of the ages, without encountering errors or unexpected behavior."
   ]
  },
  {
   "cell_type": "markdown",
   "id": "a0002feb-4d85-4b80-82f4-a5291654da58",
   "metadata": {},
   "source": [
    "**Optional: Handling Wrong Data and Inconsistencies**"
   ]
  },
  {
   "cell_type": "code",
   "execution_count": 92,
   "id": "58e8a181-4772-45e7-b628-9846dd35d375",
   "metadata": {},
   "outputs": [
    {
     "data": {
      "text/html": [
       "<div>\n",
       "<style scoped>\n",
       "    .dataframe tbody tr th:only-of-type {\n",
       "        vertical-align: middle;\n",
       "    }\n",
       "\n",
       "    .dataframe tbody tr th {\n",
       "        vertical-align: top;\n",
       "    }\n",
       "\n",
       "    .dataframe thead th {\n",
       "        text-align: right;\n",
       "    }\n",
       "</style>\n",
       "<table border=\"1\" class=\"dataframe\">\n",
       "  <thead>\n",
       "    <tr style=\"text-align: right;\">\n",
       "      <th></th>\n",
       "      <th>Name</th>\n",
       "      <th>Age</th>\n",
       "      <th>Gender</th>\n",
       "      <th>Math_Score</th>\n",
       "      <th>Science_Score</th>\n",
       "      <th>English_Score</th>\n",
       "    </tr>\n",
       "  </thead>\n",
       "  <tbody>\n",
       "    <tr>\n",
       "      <th>0</th>\n",
       "      <td>John</td>\n",
       "      <td>17</td>\n",
       "      <td>M</td>\n",
       "      <td>85.0</td>\n",
       "      <td>78.0</td>\n",
       "      <td>NaN</td>\n",
       "    </tr>\n",
       "    <tr>\n",
       "      <th>1</th>\n",
       "      <td>Anna</td>\n",
       "      <td>16</td>\n",
       "      <td>F</td>\n",
       "      <td>90.0</td>\n",
       "      <td>NaN</td>\n",
       "      <td>89.0</td>\n",
       "    </tr>\n",
       "    <tr>\n",
       "      <th>2</th>\n",
       "      <td>Mike</td>\n",
       "      <td>18</td>\n",
       "      <td>M</td>\n",
       "      <td>75.0</td>\n",
       "      <td>80.0</td>\n",
       "      <td>76.0</td>\n",
       "    </tr>\n",
       "    <tr>\n",
       "      <th>3</th>\n",
       "      <td>Lucy</td>\n",
       "      <td>unknown</td>\n",
       "      <td>F</td>\n",
       "      <td>88.0</td>\n",
       "      <td>91.0</td>\n",
       "      <td>87.0</td>\n",
       "    </tr>\n",
       "    <tr>\n",
       "      <th>4</th>\n",
       "      <td>Tom</td>\n",
       "      <td>17</td>\n",
       "      <td>M</td>\n",
       "      <td>NaN</td>\n",
       "      <td>77.0</td>\n",
       "      <td>68.0</td>\n",
       "    </tr>\n",
       "    <tr>\n",
       "      <th>5</th>\n",
       "      <td>Eva</td>\n",
       "      <td>twenty</td>\n",
       "      <td>F</td>\n",
       "      <td>92.0</td>\n",
       "      <td>85.0</td>\n",
       "      <td>91.0</td>\n",
       "    </tr>\n",
       "    <tr>\n",
       "      <th>6</th>\n",
       "      <td>Ben</td>\n",
       "      <td>17</td>\n",
       "      <td>NaN</td>\n",
       "      <td>NaN</td>\n",
       "      <td>88.0</td>\n",
       "      <td>84.0</td>\n",
       "    </tr>\n",
       "    <tr>\n",
       "      <th>7</th>\n",
       "      <td>Sam</td>\n",
       "      <td>16</td>\n",
       "      <td>M</td>\n",
       "      <td>105.0</td>\n",
       "      <td>77.0</td>\n",
       "      <td>67.0</td>\n",
       "    </tr>\n",
       "  </tbody>\n",
       "</table>\n",
       "</div>"
      ],
      "text/plain": [
       "   Name      Age Gender  Math_Score  Science_Score  English_Score\n",
       "0  John       17      M        85.0           78.0            NaN\n",
       "1  Anna       16      F        90.0            NaN           89.0\n",
       "2  Mike       18      M        75.0           80.0           76.0\n",
       "3  Lucy  unknown      F        88.0           91.0           87.0\n",
       "4   Tom       17      M         NaN           77.0           68.0\n",
       "5   Eva   twenty      F        92.0           85.0           91.0\n",
       "6   Ben       17    NaN         NaN           88.0           84.0\n",
       "7   Sam       16      M       105.0           77.0           67.0"
      ]
     },
     "execution_count": 92,
     "metadata": {},
     "output_type": "execute_result"
    }
   ],
   "source": [
    "df = pd.read_csv('stddata.csv')\n",
    "df"
   ]
  },
  {
   "cell_type": "markdown",
   "id": "7761cdb4-64a1-41d1-a4d6-ac7b2ce5b3f5",
   "metadata": {},
   "source": [
    "**Replacing Wrong Data in Age**"
   ]
  },
  {
   "cell_type": "code",
   "execution_count": 82,
   "id": "bded16d5-fc9c-4c5f-b6a7-0ea28bfa75f2",
   "metadata": {},
   "outputs": [
    {
     "data": {
      "text/plain": [
       "0         17\n",
       "1         16\n",
       "2         18\n",
       "3    unknown\n",
       "4         17\n",
       "5     twenty\n",
       "6         17\n",
       "7         16\n",
       "Name: Age, dtype: object"
      ]
     },
     "execution_count": 82,
     "metadata": {},
     "output_type": "execute_result"
    }
   ],
   "source": [
    "df['Age']"
   ]
  },
  {
   "cell_type": "code",
   "execution_count": 56,
   "id": "6769f528-ca5f-44ad-a732-f367cbb4390d",
   "metadata": {},
   "outputs": [
    {
     "data": {
      "text/plain": [
       "0         17\n",
       "1         16\n",
       "2         18\n",
       "3    unknown\n",
       "4         17\n",
       "5         20\n",
       "6         17\n",
       "7         16\n",
       "Name: Age, dtype: object"
      ]
     },
     "execution_count": 56,
     "metadata": {},
     "output_type": "execute_result"
    }
   ],
   "source": [
    "df['Age'] = df['Age'].replace('twenty', 20)\n",
    "df['Age']"
   ]
  },
  {
   "cell_type": "code",
   "execution_count": 58,
   "id": "46d37fad-f448-47ee-80b8-864e8e156180",
   "metadata": {},
   "outputs": [],
   "source": [
    "df['Age'] = df['Age'].replace(['unknown', 'twenty'], [18, 20])"
   ]
  },
  {
   "cell_type": "code",
   "execution_count": 60,
   "id": "744dd4a8-abff-447b-b560-6fbcf1e7b94b",
   "metadata": {},
   "outputs": [
    {
     "data": {
      "text/plain": [
       "0    17\n",
       "1    16\n",
       "2    18\n",
       "3    18\n",
       "4    17\n",
       "5    20\n",
       "6    17\n",
       "7    16\n",
       "Name: Age, dtype: object"
      ]
     },
     "execution_count": 60,
     "metadata": {},
     "output_type": "execute_result"
    }
   ],
   "source": [
    "df['Age']"
   ]
  },
  {
   "cell_type": "code",
   "execution_count": 62,
   "id": "69830b97-bdc1-49eb-912c-ea4401f0651e",
   "metadata": {},
   "outputs": [
    {
     "data": {
      "text/html": [
       "<div>\n",
       "<style scoped>\n",
       "    .dataframe tbody tr th:only-of-type {\n",
       "        vertical-align: middle;\n",
       "    }\n",
       "\n",
       "    .dataframe tbody tr th {\n",
       "        vertical-align: top;\n",
       "    }\n",
       "\n",
       "    .dataframe thead th {\n",
       "        text-align: right;\n",
       "    }\n",
       "</style>\n",
       "<table border=\"1\" class=\"dataframe\">\n",
       "  <thead>\n",
       "    <tr style=\"text-align: right;\">\n",
       "      <th></th>\n",
       "      <th>Name</th>\n",
       "      <th>Age</th>\n",
       "      <th>Gender</th>\n",
       "      <th>Math_Score</th>\n",
       "      <th>Science_Score</th>\n",
       "      <th>English_Score</th>\n",
       "    </tr>\n",
       "  </thead>\n",
       "  <tbody>\n",
       "    <tr>\n",
       "      <th>0</th>\n",
       "      <td>John</td>\n",
       "      <td>17</td>\n",
       "      <td>M</td>\n",
       "      <td>85.0</td>\n",
       "      <td>78.0</td>\n",
       "      <td>NaN</td>\n",
       "    </tr>\n",
       "    <tr>\n",
       "      <th>1</th>\n",
       "      <td>Anna</td>\n",
       "      <td>16</td>\n",
       "      <td>F</td>\n",
       "      <td>90.0</td>\n",
       "      <td>NaN</td>\n",
       "      <td>89.0</td>\n",
       "    </tr>\n",
       "    <tr>\n",
       "      <th>2</th>\n",
       "      <td>Mike</td>\n",
       "      <td>18</td>\n",
       "      <td>M</td>\n",
       "      <td>75.0</td>\n",
       "      <td>80.0</td>\n",
       "      <td>76.0</td>\n",
       "    </tr>\n",
       "    <tr>\n",
       "      <th>3</th>\n",
       "      <td>Lucy</td>\n",
       "      <td>18</td>\n",
       "      <td>F</td>\n",
       "      <td>88.0</td>\n",
       "      <td>91.0</td>\n",
       "      <td>87.0</td>\n",
       "    </tr>\n",
       "    <tr>\n",
       "      <th>4</th>\n",
       "      <td>Tom</td>\n",
       "      <td>17</td>\n",
       "      <td>M</td>\n",
       "      <td>NaN</td>\n",
       "      <td>77.0</td>\n",
       "      <td>68.0</td>\n",
       "    </tr>\n",
       "    <tr>\n",
       "      <th>5</th>\n",
       "      <td>Eva</td>\n",
       "      <td>20</td>\n",
       "      <td>F</td>\n",
       "      <td>92.0</td>\n",
       "      <td>85.0</td>\n",
       "      <td>91.0</td>\n",
       "    </tr>\n",
       "    <tr>\n",
       "      <th>6</th>\n",
       "      <td>Ben</td>\n",
       "      <td>17</td>\n",
       "      <td>NaN</td>\n",
       "      <td>NaN</td>\n",
       "      <td>88.0</td>\n",
       "      <td>84.0</td>\n",
       "    </tr>\n",
       "    <tr>\n",
       "      <th>7</th>\n",
       "      <td>Sam</td>\n",
       "      <td>16</td>\n",
       "      <td>M</td>\n",
       "      <td>105.0</td>\n",
       "      <td>77.0</td>\n",
       "      <td>67.0</td>\n",
       "    </tr>\n",
       "  </tbody>\n",
       "</table>\n",
       "</div>"
      ],
      "text/plain": [
       "   Name Age Gender  Math_Score  Science_Score  English_Score\n",
       "0  John  17      M        85.0           78.0            NaN\n",
       "1  Anna  16      F        90.0            NaN           89.0\n",
       "2  Mike  18      M        75.0           80.0           76.0\n",
       "3  Lucy  18      F        88.0           91.0           87.0\n",
       "4   Tom  17      M         NaN           77.0           68.0\n",
       "5   Eva  20      F        92.0           85.0           91.0\n",
       "6   Ben  17    NaN         NaN           88.0           84.0\n",
       "7   Sam  16      M       105.0           77.0           67.0"
      ]
     },
     "execution_count": 62,
     "metadata": {},
     "output_type": "execute_result"
    }
   ],
   "source": [
    "df"
   ]
  },
  {
   "cell_type": "markdown",
   "id": "e7588efc-f0df-4fbf-918c-e8ff06df7736",
   "metadata": {},
   "source": [
    "**Handle missing values**"
   ]
  },
  {
   "cell_type": "code",
   "execution_count": 76,
   "id": "8c3a85a2-824b-468e-9152-2f5060d0b5c1",
   "metadata": {},
   "outputs": [
    {
     "data": {
      "text/html": [
       "<div>\n",
       "<style scoped>\n",
       "    .dataframe tbody tr th:only-of-type {\n",
       "        vertical-align: middle;\n",
       "    }\n",
       "\n",
       "    .dataframe tbody tr th {\n",
       "        vertical-align: top;\n",
       "    }\n",
       "\n",
       "    .dataframe thead th {\n",
       "        text-align: right;\n",
       "    }\n",
       "</style>\n",
       "<table border=\"1\" class=\"dataframe\">\n",
       "  <thead>\n",
       "    <tr style=\"text-align: right;\">\n",
       "      <th></th>\n",
       "      <th>Name</th>\n",
       "      <th>Age</th>\n",
       "      <th>Gender</th>\n",
       "      <th>Math_Score</th>\n",
       "      <th>Science_Score</th>\n",
       "      <th>English_Score</th>\n",
       "    </tr>\n",
       "  </thead>\n",
       "  <tbody>\n",
       "    <tr>\n",
       "      <th>0</th>\n",
       "      <td>John</td>\n",
       "      <td>17.0</td>\n",
       "      <td>M</td>\n",
       "      <td>85.0</td>\n",
       "      <td>78.0</td>\n",
       "      <td>NaN</td>\n",
       "    </tr>\n",
       "    <tr>\n",
       "      <th>1</th>\n",
       "      <td>Anna</td>\n",
       "      <td>16.0</td>\n",
       "      <td>F</td>\n",
       "      <td>90.0</td>\n",
       "      <td>NaN</td>\n",
       "      <td>89.0</td>\n",
       "    </tr>\n",
       "    <tr>\n",
       "      <th>2</th>\n",
       "      <td>Mike</td>\n",
       "      <td>18.0</td>\n",
       "      <td>M</td>\n",
       "      <td>75.0</td>\n",
       "      <td>80.0</td>\n",
       "      <td>76.0</td>\n",
       "    </tr>\n",
       "    <tr>\n",
       "      <th>3</th>\n",
       "      <td>Lucy</td>\n",
       "      <td>NaN</td>\n",
       "      <td>F</td>\n",
       "      <td>88.0</td>\n",
       "      <td>91.0</td>\n",
       "      <td>87.0</td>\n",
       "    </tr>\n",
       "    <tr>\n",
       "      <th>4</th>\n",
       "      <td>Tom</td>\n",
       "      <td>17.0</td>\n",
       "      <td>M</td>\n",
       "      <td>NaN</td>\n",
       "      <td>77.0</td>\n",
       "      <td>68.0</td>\n",
       "    </tr>\n",
       "    <tr>\n",
       "      <th>5</th>\n",
       "      <td>Eva</td>\n",
       "      <td>NaN</td>\n",
       "      <td>F</td>\n",
       "      <td>92.0</td>\n",
       "      <td>85.0</td>\n",
       "      <td>91.0</td>\n",
       "    </tr>\n",
       "    <tr>\n",
       "      <th>6</th>\n",
       "      <td>Ben</td>\n",
       "      <td>17.0</td>\n",
       "      <td>NaN</td>\n",
       "      <td>NaN</td>\n",
       "      <td>88.0</td>\n",
       "      <td>84.0</td>\n",
       "    </tr>\n",
       "    <tr>\n",
       "      <th>7</th>\n",
       "      <td>Sam</td>\n",
       "      <td>16.0</td>\n",
       "      <td>M</td>\n",
       "      <td>105.0</td>\n",
       "      <td>77.0</td>\n",
       "      <td>67.0</td>\n",
       "    </tr>\n",
       "  </tbody>\n",
       "</table>\n",
       "</div>"
      ],
      "text/plain": [
       "   Name   Age Gender  Math_Score  Science_Score  English_Score\n",
       "0  John  17.0      M        85.0           78.0            NaN\n",
       "1  Anna  16.0      F        90.0            NaN           89.0\n",
       "2  Mike  18.0      M        75.0           80.0           76.0\n",
       "3  Lucy   NaN      F        88.0           91.0           87.0\n",
       "4   Tom  17.0      M         NaN           77.0           68.0\n",
       "5   Eva   NaN      F        92.0           85.0           91.0\n",
       "6   Ben  17.0    NaN         NaN           88.0           84.0\n",
       "7   Sam  16.0      M       105.0           77.0           67.0"
      ]
     },
     "execution_count": 76,
     "metadata": {},
     "output_type": "execute_result"
    }
   ],
   "source": [
    "df"
   ]
  },
  {
   "cell_type": "code",
   "execution_count": 78,
   "id": "f25d424c-1604-492b-b220-c61b18cc757a",
   "metadata": {},
   "outputs": [
    {
     "data": {
      "text/plain": [
       "Name             0\n",
       "Age              2\n",
       "Gender           1\n",
       "Math_Score       2\n",
       "Science_Score    1\n",
       "English_Score    1\n",
       "dtype: int64"
      ]
     },
     "execution_count": 78,
     "metadata": {},
     "output_type": "execute_result"
    }
   ],
   "source": [
    "# Check for missing values\n",
    "df.isnull().sum()"
   ]
  },
  {
   "cell_type": "markdown",
   "id": "e343ce3f-3f91-4762-96c1-ba88b1fd94c4",
   "metadata": {},
   "source": [
    "**Age**"
   ]
  },
  {
   "cell_type": "code",
   "execution_count": 98,
   "id": "d0e13244-04e3-4a7d-ae48-90b6ba298bbf",
   "metadata": {},
   "outputs": [
    {
     "data": {
      "text/plain": [
       "0    17.0\n",
       "1    16.0\n",
       "2    18.0\n",
       "3     NaN\n",
       "4    17.0\n",
       "5     NaN\n",
       "6    17.0\n",
       "7    16.0\n",
       "Name: Age, dtype: float64"
      ]
     },
     "execution_count": 98,
     "metadata": {},
     "output_type": "execute_result"
    }
   ],
   "source": [
    "df['Age']"
   ]
  },
  {
   "cell_type": "code",
   "execution_count": 100,
   "id": "2e259a3a-a900-4e91-a000-8b2a0fa06e2f",
   "metadata": {},
   "outputs": [
    {
     "data": {
      "text/plain": [
       "17.0"
      ]
     },
     "execution_count": 100,
     "metadata": {},
     "output_type": "execute_result"
    }
   ],
   "source": [
    "# Fill missing 'Age' values with the median\n",
    "age_median = df['Age'].median() #mean\n",
    "# age_mean = df['Age'].mean()\n",
    "# age_max = df['Age'].min()\n",
    "age_median"
   ]
  },
  {
   "cell_type": "code",
   "execution_count": 102,
   "id": "a4ad0286-fa2e-4557-a013-4f1d4a4a8497",
   "metadata": {},
   "outputs": [],
   "source": [
    "# Fill missing 'Age' values with the median\n",
    "df['Age'] = df['Age'].fillna(age_median)"
   ]
  },
  {
   "cell_type": "code",
   "execution_count": 104,
   "id": "05a297d5-3f2a-4857-95c4-ea88d42632f7",
   "metadata": {},
   "outputs": [
    {
     "data": {
      "text/plain": [
       "0    17.0\n",
       "1    16.0\n",
       "2    18.0\n",
       "3    17.0\n",
       "4    17.0\n",
       "5    17.0\n",
       "6    17.0\n",
       "7    16.0\n",
       "Name: Age, dtype: float64"
      ]
     },
     "execution_count": 104,
     "metadata": {},
     "output_type": "execute_result"
    }
   ],
   "source": [
    "df['Age']"
   ]
  },
  {
   "cell_type": "code",
   "execution_count": 106,
   "id": "9497805e-6869-41b1-b31c-756ff1630ced",
   "metadata": {},
   "outputs": [
    {
     "data": {
      "text/html": [
       "<div>\n",
       "<style scoped>\n",
       "    .dataframe tbody tr th:only-of-type {\n",
       "        vertical-align: middle;\n",
       "    }\n",
       "\n",
       "    .dataframe tbody tr th {\n",
       "        vertical-align: top;\n",
       "    }\n",
       "\n",
       "    .dataframe thead th {\n",
       "        text-align: right;\n",
       "    }\n",
       "</style>\n",
       "<table border=\"1\" class=\"dataframe\">\n",
       "  <thead>\n",
       "    <tr style=\"text-align: right;\">\n",
       "      <th></th>\n",
       "      <th>Name</th>\n",
       "      <th>Age</th>\n",
       "      <th>Gender</th>\n",
       "      <th>Math_Score</th>\n",
       "      <th>Science_Score</th>\n",
       "      <th>English_Score</th>\n",
       "    </tr>\n",
       "  </thead>\n",
       "  <tbody>\n",
       "    <tr>\n",
       "      <th>0</th>\n",
       "      <td>John</td>\n",
       "      <td>17.0</td>\n",
       "      <td>M</td>\n",
       "      <td>85.0</td>\n",
       "      <td>78.0</td>\n",
       "      <td>NaN</td>\n",
       "    </tr>\n",
       "    <tr>\n",
       "      <th>1</th>\n",
       "      <td>Anna</td>\n",
       "      <td>16.0</td>\n",
       "      <td>F</td>\n",
       "      <td>90.0</td>\n",
       "      <td>NaN</td>\n",
       "      <td>89.0</td>\n",
       "    </tr>\n",
       "    <tr>\n",
       "      <th>2</th>\n",
       "      <td>Mike</td>\n",
       "      <td>18.0</td>\n",
       "      <td>M</td>\n",
       "      <td>75.0</td>\n",
       "      <td>80.0</td>\n",
       "      <td>76.0</td>\n",
       "    </tr>\n",
       "    <tr>\n",
       "      <th>3</th>\n",
       "      <td>Lucy</td>\n",
       "      <td>17.0</td>\n",
       "      <td>F</td>\n",
       "      <td>88.0</td>\n",
       "      <td>91.0</td>\n",
       "      <td>87.0</td>\n",
       "    </tr>\n",
       "    <tr>\n",
       "      <th>4</th>\n",
       "      <td>Tom</td>\n",
       "      <td>17.0</td>\n",
       "      <td>M</td>\n",
       "      <td>NaN</td>\n",
       "      <td>77.0</td>\n",
       "      <td>68.0</td>\n",
       "    </tr>\n",
       "    <tr>\n",
       "      <th>5</th>\n",
       "      <td>Eva</td>\n",
       "      <td>17.0</td>\n",
       "      <td>F</td>\n",
       "      <td>92.0</td>\n",
       "      <td>85.0</td>\n",
       "      <td>91.0</td>\n",
       "    </tr>\n",
       "    <tr>\n",
       "      <th>6</th>\n",
       "      <td>Ben</td>\n",
       "      <td>17.0</td>\n",
       "      <td>NaN</td>\n",
       "      <td>NaN</td>\n",
       "      <td>88.0</td>\n",
       "      <td>84.0</td>\n",
       "    </tr>\n",
       "    <tr>\n",
       "      <th>7</th>\n",
       "      <td>Sam</td>\n",
       "      <td>16.0</td>\n",
       "      <td>M</td>\n",
       "      <td>105.0</td>\n",
       "      <td>77.0</td>\n",
       "      <td>67.0</td>\n",
       "    </tr>\n",
       "  </tbody>\n",
       "</table>\n",
       "</div>"
      ],
      "text/plain": [
       "   Name   Age Gender  Math_Score  Science_Score  English_Score\n",
       "0  John  17.0      M        85.0           78.0            NaN\n",
       "1  Anna  16.0      F        90.0            NaN           89.0\n",
       "2  Mike  18.0      M        75.0           80.0           76.0\n",
       "3  Lucy  17.0      F        88.0           91.0           87.0\n",
       "4   Tom  17.0      M         NaN           77.0           68.0\n",
       "5   Eva  17.0      F        92.0           85.0           91.0\n",
       "6   Ben  17.0    NaN         NaN           88.0           84.0\n",
       "7   Sam  16.0      M       105.0           77.0           67.0"
      ]
     },
     "execution_count": 106,
     "metadata": {},
     "output_type": "execute_result"
    }
   ],
   "source": [
    "df"
   ]
  },
  {
   "cell_type": "code",
   "execution_count": 57,
   "id": "bee6341b-425f-42f3-97b4-3bb2a31240fc",
   "metadata": {},
   "outputs": [
    {
     "data": {
      "text/plain": [
       "Name             0\n",
       "Age              0\n",
       "Gender           1\n",
       "Math_Score       2\n",
       "Science_Score    1\n",
       "English_Score    1\n",
       "dtype: int64"
      ]
     },
     "execution_count": 57,
     "metadata": {},
     "output_type": "execute_result"
    }
   ],
   "source": [
    "df.isna().sum()"
   ]
  },
  {
   "cell_type": "markdown",
   "id": "735a7ca9-9a8c-498e-bdd6-f4ef9897945e",
   "metadata": {},
   "source": [
    "**Math_Score**"
   ]
  },
  {
   "cell_type": "code",
   "execution_count": 60,
   "id": "bffcddcb-57d3-4096-a207-8d5e79d8a2a8",
   "metadata": {},
   "outputs": [
    {
     "data": {
      "text/plain": [
       "0     85.0\n",
       "1     90.0\n",
       "2     75.0\n",
       "3     88.0\n",
       "4      NaN\n",
       "5     92.0\n",
       "6      NaN\n",
       "7    105.0\n",
       "Name: Math_Score, dtype: float64"
      ]
     },
     "execution_count": 60,
     "metadata": {},
     "output_type": "execute_result"
    }
   ],
   "source": [
    "df['Math_Score']"
   ]
  },
  {
   "cell_type": "markdown",
   "id": "1ae16e4d-1edf-41d7-b781-7e60459bb977",
   "metadata": {},
   "source": [
    "**two things here**\n",
    "* Missing values\n",
    "* Outlier: 105"
   ]
  },
  {
   "cell_type": "markdown",
   "id": "0d9b2650-c042-4a58-b9e5-19e99ca53b28",
   "metadata": {},
   "source": [
    "**Missing value of Math_Score**"
   ]
  },
  {
   "cell_type": "code",
   "execution_count": 108,
   "id": "32c55b8f-cb42-4f3b-89de-928d9d94d2b7",
   "metadata": {},
   "outputs": [
    {
     "data": {
      "text/plain": [
       "89.16666666666667"
      ]
     },
     "execution_count": 108,
     "metadata": {},
     "output_type": "execute_result"
    }
   ],
   "source": [
    "math_mean = df['Math_Score'].mean()\n",
    "math_mean"
   ]
  },
  {
   "cell_type": "code",
   "execution_count": 110,
   "id": "e8c5e23d-9211-4cb5-b816-a94585278af6",
   "metadata": {},
   "outputs": [
    {
     "data": {
      "text/plain": [
       "0     85.000000\n",
       "1     90.000000\n",
       "2     75.000000\n",
       "3     88.000000\n",
       "4     89.166667\n",
       "5     92.000000\n",
       "6     89.166667\n",
       "7    105.000000\n",
       "Name: Math_Score, dtype: float64"
      ]
     },
     "execution_count": 110,
     "metadata": {},
     "output_type": "execute_result"
    }
   ],
   "source": [
    "df['Math_Score'] = df['Math_Score'].fillna(math_mean)\n",
    "df['Math_Score']"
   ]
  },
  {
   "cell_type": "code",
   "execution_count": 112,
   "id": "ef9b0b85-f508-4ac6-a179-c874a8b8de11",
   "metadata": {},
   "outputs": [
    {
     "data": {
      "text/html": [
       "<div>\n",
       "<style scoped>\n",
       "    .dataframe tbody tr th:only-of-type {\n",
       "        vertical-align: middle;\n",
       "    }\n",
       "\n",
       "    .dataframe tbody tr th {\n",
       "        vertical-align: top;\n",
       "    }\n",
       "\n",
       "    .dataframe thead th {\n",
       "        text-align: right;\n",
       "    }\n",
       "</style>\n",
       "<table border=\"1\" class=\"dataframe\">\n",
       "  <thead>\n",
       "    <tr style=\"text-align: right;\">\n",
       "      <th></th>\n",
       "      <th>Name</th>\n",
       "      <th>Age</th>\n",
       "      <th>Gender</th>\n",
       "      <th>Math_Score</th>\n",
       "      <th>Science_Score</th>\n",
       "      <th>English_Score</th>\n",
       "    </tr>\n",
       "  </thead>\n",
       "  <tbody>\n",
       "    <tr>\n",
       "      <th>0</th>\n",
       "      <td>John</td>\n",
       "      <td>17.0</td>\n",
       "      <td>M</td>\n",
       "      <td>85.000000</td>\n",
       "      <td>78.0</td>\n",
       "      <td>NaN</td>\n",
       "    </tr>\n",
       "    <tr>\n",
       "      <th>1</th>\n",
       "      <td>Anna</td>\n",
       "      <td>16.0</td>\n",
       "      <td>F</td>\n",
       "      <td>90.000000</td>\n",
       "      <td>NaN</td>\n",
       "      <td>89.0</td>\n",
       "    </tr>\n",
       "    <tr>\n",
       "      <th>2</th>\n",
       "      <td>Mike</td>\n",
       "      <td>18.0</td>\n",
       "      <td>M</td>\n",
       "      <td>75.000000</td>\n",
       "      <td>80.0</td>\n",
       "      <td>76.0</td>\n",
       "    </tr>\n",
       "    <tr>\n",
       "      <th>3</th>\n",
       "      <td>Lucy</td>\n",
       "      <td>17.0</td>\n",
       "      <td>F</td>\n",
       "      <td>88.000000</td>\n",
       "      <td>91.0</td>\n",
       "      <td>87.0</td>\n",
       "    </tr>\n",
       "    <tr>\n",
       "      <th>4</th>\n",
       "      <td>Tom</td>\n",
       "      <td>17.0</td>\n",
       "      <td>M</td>\n",
       "      <td>89.166667</td>\n",
       "      <td>77.0</td>\n",
       "      <td>68.0</td>\n",
       "    </tr>\n",
       "    <tr>\n",
       "      <th>5</th>\n",
       "      <td>Eva</td>\n",
       "      <td>17.0</td>\n",
       "      <td>F</td>\n",
       "      <td>92.000000</td>\n",
       "      <td>85.0</td>\n",
       "      <td>91.0</td>\n",
       "    </tr>\n",
       "    <tr>\n",
       "      <th>6</th>\n",
       "      <td>Ben</td>\n",
       "      <td>17.0</td>\n",
       "      <td>NaN</td>\n",
       "      <td>89.166667</td>\n",
       "      <td>88.0</td>\n",
       "      <td>84.0</td>\n",
       "    </tr>\n",
       "    <tr>\n",
       "      <th>7</th>\n",
       "      <td>Sam</td>\n",
       "      <td>16.0</td>\n",
       "      <td>M</td>\n",
       "      <td>105.000000</td>\n",
       "      <td>77.0</td>\n",
       "      <td>67.0</td>\n",
       "    </tr>\n",
       "  </tbody>\n",
       "</table>\n",
       "</div>"
      ],
      "text/plain": [
       "   Name   Age Gender  Math_Score  Science_Score  English_Score\n",
       "0  John  17.0      M   85.000000           78.0            NaN\n",
       "1  Anna  16.0      F   90.000000            NaN           89.0\n",
       "2  Mike  18.0      M   75.000000           80.0           76.0\n",
       "3  Lucy  17.0      F   88.000000           91.0           87.0\n",
       "4   Tom  17.0      M   89.166667           77.0           68.0\n",
       "5   Eva  17.0      F   92.000000           85.0           91.0\n",
       "6   Ben  17.0    NaN   89.166667           88.0           84.0\n",
       "7   Sam  16.0      M  105.000000           77.0           67.0"
      ]
     },
     "execution_count": 112,
     "metadata": {},
     "output_type": "execute_result"
    }
   ],
   "source": [
    "df"
   ]
  },
  {
   "cell_type": "markdown",
   "id": "669f7f34-4783-4ed8-bddc-563224f91ed8",
   "metadata": {},
   "source": [
    "**Outlier of Math_Score**"
   ]
  },
  {
   "cell_type": "markdown",
   "id": "65a9a9ca-5731-4b53-9dc3-2e291024345c",
   "metadata": {},
   "source": [
    "**Handle outliers**"
   ]
  },
  {
   "cell_type": "code",
   "execution_count": 114,
   "id": "c7eb3863-0df2-4aea-89b2-62a6281acafb",
   "metadata": {},
   "outputs": [
    {
     "data": {
      "image/png": "[encoded data removed]",
      "text/plain": [
       "<Figure size 640x480 with 1 Axes>"
      ]
     },
     "metadata": {},
     "output_type": "display_data"
    }
   ],
   "source": [
    "# Visualize the distribution of the 'Math_Score' column\n",
    "df['Math_Score'].hist()\n",
    "plt.show()"
   ]
  },
  {
   "cell_type": "markdown",
   "id": "b563889f-be52-441b-bd7a-1049bfbaef8f",
   "metadata": {},
   "source": [
    "**Handling Outliers Using clip()**"
   ]
  },
  {
   "cell_type": "markdown",
   "id": "43bd17d9-d1fc-449d-b6b1-9d38901401ba",
   "metadata": {},
   "source": [
    "> This method allows you to set a lower and upper bound, and any values outside these bounds are replaced with the boundary values."
   ]
  },
  {
   "cell_type": "markdown",
   "id": "367cfa88-46a5-4f34-8f61-889b9c279225",
   "metadata": {},
   "source": [
    "> df['Column_Name'] = df['Column_Name'].clip(lower_bound, upper_bound)\n"
   ]
  },
  {
   "cell_type": "markdown",
   "id": "95e3651a-0629-465a-8ab8-99a6bb65eb7c",
   "metadata": {},
   "source": [
    "**Usage**:\n",
    "* lower_bound: The minimum acceptable value.\n",
    "* upper_bound: The maximum acceptable value.\n",
    "* Any values below lower_bound are replaced with lower_bound, and any values above upper_bound are replaced with upper_bound."
   ]
  },
  {
   "cell_type": "markdown",
   "id": "42006a6d-6d2b-403a-8283-1ca024edab17",
   "metadata": {},
   "source": [
    "**Assume the Math_Score should be between 0 and 100:**"
   ]
  },
  {
   "cell_type": "code",
   "execution_count": 107,
   "id": "8d5adcdd-d916-4307-8546-990a49dc8d1e",
   "metadata": {},
   "outputs": [
    {
     "data": {
      "text/plain": [
       "0     85.000000\n",
       "1     90.000000\n",
       "2     75.000000\n",
       "3     88.000000\n",
       "4     89.166667\n",
       "5     92.000000\n",
       "6     89.166667\n",
       "7    105.000000\n",
       "Name: Math_Score, dtype: float64"
      ]
     },
     "execution_count": 107,
     "metadata": {},
     "output_type": "execute_result"
    }
   ],
   "source": [
    "df = pd.read_csv('stddata.csv')\n",
    "df['Math_Score'] = df['Math_Score'].fillna(math_mean)\n",
    "df['Math_Score']"
   ]
  },
  {
   "cell_type": "code",
   "execution_count": 128,
   "id": "2768f7d6-c858-476c-9726-935c65e0f987",
   "metadata": {},
   "outputs": [
    {
     "data": {
      "text/plain": [
       "0    85.000000\n",
       "1    90.000000\n",
       "2    80.000000\n",
       "3    88.000000\n",
       "4    89.166667\n",
       "5    92.000000\n",
       "6    89.166667\n",
       "7    99.000000\n",
       "Name: Math_Score, dtype: float64"
      ]
     },
     "execution_count": 128,
     "metadata": {},
     "output_type": "execute_result"
    }
   ],
   "source": [
    "df['Math_Score'] = df['Math_Score'].clip(0, 100)\n",
    "df['Math_Score']"
   ]
  },
  {
   "cell_type": "code",
   "execution_count": 130,
   "id": "bc71a69a-f814-4365-9ca8-92a74d099b73",
   "metadata": {},
   "outputs": [
    {
     "data": {
      "text/html": [
       "<div>\n",
       "<style scoped>\n",
       "    .dataframe tbody tr th:only-of-type {\n",
       "        vertical-align: middle;\n",
       "    }\n",
       "\n",
       "    .dataframe tbody tr th {\n",
       "        vertical-align: top;\n",
       "    }\n",
       "\n",
       "    .dataframe thead th {\n",
       "        text-align: right;\n",
       "    }\n",
       "</style>\n",
       "<table border=\"1\" class=\"dataframe\">\n",
       "  <thead>\n",
       "    <tr style=\"text-align: right;\">\n",
       "      <th></th>\n",
       "      <th>Name</th>\n",
       "      <th>Age</th>\n",
       "      <th>Gender</th>\n",
       "      <th>Math_Score</th>\n",
       "      <th>Science_Score</th>\n",
       "      <th>English_Score</th>\n",
       "    </tr>\n",
       "  </thead>\n",
       "  <tbody>\n",
       "    <tr>\n",
       "      <th>0</th>\n",
       "      <td>John</td>\n",
       "      <td>17.0</td>\n",
       "      <td>M</td>\n",
       "      <td>85.000000</td>\n",
       "      <td>78.0</td>\n",
       "      <td>NaN</td>\n",
       "    </tr>\n",
       "    <tr>\n",
       "      <th>1</th>\n",
       "      <td>Anna</td>\n",
       "      <td>16.0</td>\n",
       "      <td>F</td>\n",
       "      <td>90.000000</td>\n",
       "      <td>NaN</td>\n",
       "      <td>89.0</td>\n",
       "    </tr>\n",
       "    <tr>\n",
       "      <th>2</th>\n",
       "      <td>Mike</td>\n",
       "      <td>18.0</td>\n",
       "      <td>M</td>\n",
       "      <td>80.000000</td>\n",
       "      <td>80.0</td>\n",
       "      <td>76.0</td>\n",
       "    </tr>\n",
       "    <tr>\n",
       "      <th>3</th>\n",
       "      <td>Lucy</td>\n",
       "      <td>17.0</td>\n",
       "      <td>F</td>\n",
       "      <td>88.000000</td>\n",
       "      <td>91.0</td>\n",
       "      <td>87.0</td>\n",
       "    </tr>\n",
       "    <tr>\n",
       "      <th>4</th>\n",
       "      <td>Tom</td>\n",
       "      <td>17.0</td>\n",
       "      <td>M</td>\n",
       "      <td>89.166667</td>\n",
       "      <td>77.0</td>\n",
       "      <td>68.0</td>\n",
       "    </tr>\n",
       "    <tr>\n",
       "      <th>5</th>\n",
       "      <td>Eva</td>\n",
       "      <td>17.0</td>\n",
       "      <td>F</td>\n",
       "      <td>92.000000</td>\n",
       "      <td>85.0</td>\n",
       "      <td>91.0</td>\n",
       "    </tr>\n",
       "    <tr>\n",
       "      <th>6</th>\n",
       "      <td>Ben</td>\n",
       "      <td>17.0</td>\n",
       "      <td>NaN</td>\n",
       "      <td>89.166667</td>\n",
       "      <td>88.0</td>\n",
       "      <td>84.0</td>\n",
       "    </tr>\n",
       "    <tr>\n",
       "      <th>7</th>\n",
       "      <td>Sam</td>\n",
       "      <td>16.0</td>\n",
       "      <td>M</td>\n",
       "      <td>99.000000</td>\n",
       "      <td>77.0</td>\n",
       "      <td>67.0</td>\n",
       "    </tr>\n",
       "  </tbody>\n",
       "</table>\n",
       "</div>"
      ],
      "text/plain": [
       "   Name   Age Gender  Math_Score  Science_Score  English_Score\n",
       "0  John  17.0      M   85.000000           78.0            NaN\n",
       "1  Anna  16.0      F   90.000000            NaN           89.0\n",
       "2  Mike  18.0      M   80.000000           80.0           76.0\n",
       "3  Lucy  17.0      F   88.000000           91.0           87.0\n",
       "4   Tom  17.0      M   89.166667           77.0           68.0\n",
       "5   Eva  17.0      F   92.000000           85.0           91.0\n",
       "6   Ben  17.0    NaN   89.166667           88.0           84.0\n",
       "7   Sam  16.0      M   99.000000           77.0           67.0"
      ]
     },
     "execution_count": 130,
     "metadata": {},
     "output_type": "execute_result"
    }
   ],
   "source": [
    "df"
   ]
  },
  {
   "cell_type": "markdown",
   "id": "1206cc66-b1e5-4702-8220-6f24a089c73b",
   "metadata": {},
   "source": [
    "**Handling Outliers by Winsorization**\n",
    "> Winsorization involves capping the extreme values in the data."
   ]
  },
  {
   "cell_type": "code",
   "execution_count": 113,
   "id": "dc7bf837-f08a-41b6-90fa-cfc098f853e5",
   "metadata": {},
   "outputs": [
    {
     "data": {
      "text/plain": [
       "0    85.000000\n",
       "1    90.000000\n",
       "2    78.500000\n",
       "3    88.000000\n",
       "4    89.166667\n",
       "5    92.000000\n",
       "6    89.166667\n",
       "7    97.200000\n",
       "Name: Math_Score, dtype: float64"
      ]
     },
     "execution_count": 113,
     "metadata": {},
     "output_type": "execute_result"
    }
   ],
   "source": [
    "lower_bound = df['Math_Score'].quantile(0.05)\n",
    "upper_bound = df['Math_Score'].quantile(0.95)\n",
    "\n",
    "df['Math_Score'] = df['Math_Score'].clip(lower_bound, upper_bound)\n",
    "df['Math_Score']\n"
   ]
  },
  {
   "cell_type": "markdown",
   "id": "feb8a8d0-5044-4aff-82b0-64391f70f230",
   "metadata": {},
   "source": [
    "<h3> Winsorization </h3>\n",
    "\n",
    "**Quantiles:**\n",
    "> Quantiles are points in your data that divide it into equal-sized intervals. They help understand the distribution of data by indicating where a particular percentage of the data lies.\n",
    "\n",
    "* 0th Quantile (0.00): The minimum value in the data.\n",
    "* 25th Quantile (0.25): The value below which 25% of the data falls (also known as the first quartile, Q1).\n",
    "* 50th Quantile (0.50): The median, the value below which 50% of the data falls.\n",
    "* 75th Quantile (0.75): The value below which 75% of the data falls (also known as the third quartile, Q3).\n",
    "* 100th Quantile (1.00): The maximum value in the data.\n",
    "> Quantiles are useful for detecting outliers because they provide boundaries that help identify the spread of the data. Outliers often lie outside the range between the lower (Q1) and upper (Q3) quartiles.\n",
    "\n",
    "**Winsorization:**\n",
    "Winsorization is a statistical technique used to limit extreme values in the data to reduce the effect of possibly spurious outliers. Instead of removing outliers, Winsorization modifies them by capping the extreme values to a specific quantile.\n",
    "\n",
    "**How Winsorization Works:**<br>\n",
    "**Step 1**: Determine Quantiles: First, decide on the quantiles you want to use as boundaries for capping the data. \n",
    "    For example, you might choose the 5th and 95th percentiles.\n",
    "\n",
    "**Step 2**: Cap Extreme Values:\n",
    "\n",
    "Any value below the lower quantile (e.g., the 5th percentile) is set to the value of that lower quantile.\n",
    "Any value above the upper quantile (e.g., the 95th percentile) is set to the value of that upper quantile.\n",
    "This method retains all data points but reduces the impact of extreme outliers by capping them."
   ]
  },
  {
   "cell_type": "code",
   "execution_count": 134,
   "id": "f4c0f3c7-26f9-46a7-86c5-943921b96966",
   "metadata": {},
   "outputs": [
    {
     "data": {
      "text/plain": [
       "95.08"
      ]
     },
     "execution_count": 134,
     "metadata": {},
     "output_type": "execute_result"
    }
   ],
   "source": [
    "df['Math_Score'].quantile(0.92)"
   ]
  },
  {
   "cell_type": "code",
   "execution_count": 136,
   "id": "5cd9a2b8-4733-433c-8119-c36227ed4991",
   "metadata": {},
   "outputs": [
    {
     "data": {
      "text/html": [
       "<div>\n",
       "<style scoped>\n",
       "    .dataframe tbody tr th:only-of-type {\n",
       "        vertical-align: middle;\n",
       "    }\n",
       "\n",
       "    .dataframe tbody tr th {\n",
       "        vertical-align: top;\n",
       "    }\n",
       "\n",
       "    .dataframe thead th {\n",
       "        text-align: right;\n",
       "    }\n",
       "</style>\n",
       "<table border=\"1\" class=\"dataframe\">\n",
       "  <thead>\n",
       "    <tr style=\"text-align: right;\">\n",
       "      <th></th>\n",
       "      <th>Name</th>\n",
       "      <th>Age</th>\n",
       "      <th>Gender</th>\n",
       "      <th>Math_Score</th>\n",
       "      <th>Science_Score</th>\n",
       "      <th>English_Score</th>\n",
       "    </tr>\n",
       "  </thead>\n",
       "  <tbody>\n",
       "    <tr>\n",
       "      <th>0</th>\n",
       "      <td>John</td>\n",
       "      <td>17</td>\n",
       "      <td>M</td>\n",
       "      <td>85.000000</td>\n",
       "      <td>78.0</td>\n",
       "      <td>NaN</td>\n",
       "    </tr>\n",
       "    <tr>\n",
       "      <th>1</th>\n",
       "      <td>Anna</td>\n",
       "      <td>16</td>\n",
       "      <td>F</td>\n",
       "      <td>90.000000</td>\n",
       "      <td>NaN</td>\n",
       "      <td>89.0</td>\n",
       "    </tr>\n",
       "    <tr>\n",
       "      <th>2</th>\n",
       "      <td>Mike</td>\n",
       "      <td>18</td>\n",
       "      <td>M</td>\n",
       "      <td>78.500000</td>\n",
       "      <td>80.0</td>\n",
       "      <td>76.0</td>\n",
       "    </tr>\n",
       "    <tr>\n",
       "      <th>3</th>\n",
       "      <td>Lucy</td>\n",
       "      <td>unknown</td>\n",
       "      <td>F</td>\n",
       "      <td>88.000000</td>\n",
       "      <td>91.0</td>\n",
       "      <td>87.0</td>\n",
       "    </tr>\n",
       "    <tr>\n",
       "      <th>4</th>\n",
       "      <td>Tom</td>\n",
       "      <td>17</td>\n",
       "      <td>M</td>\n",
       "      <td>89.166667</td>\n",
       "      <td>77.0</td>\n",
       "      <td>68.0</td>\n",
       "    </tr>\n",
       "    <tr>\n",
       "      <th>5</th>\n",
       "      <td>Eva</td>\n",
       "      <td>twenty</td>\n",
       "      <td>F</td>\n",
       "      <td>92.000000</td>\n",
       "      <td>85.0</td>\n",
       "      <td>91.0</td>\n",
       "    </tr>\n",
       "    <tr>\n",
       "      <th>6</th>\n",
       "      <td>Ben</td>\n",
       "      <td>17</td>\n",
       "      <td>NaN</td>\n",
       "      <td>89.166667</td>\n",
       "      <td>88.0</td>\n",
       "      <td>84.0</td>\n",
       "    </tr>\n",
       "    <tr>\n",
       "      <th>7</th>\n",
       "      <td>Sam</td>\n",
       "      <td>16</td>\n",
       "      <td>M</td>\n",
       "      <td>97.720000</td>\n",
       "      <td>77.0</td>\n",
       "      <td>67.0</td>\n",
       "    </tr>\n",
       "  </tbody>\n",
       "</table>\n",
       "</div>"
      ],
      "text/plain": [
       "   Name      Age Gender  Math_Score  Science_Score  English_Score\n",
       "0  John       17      M   85.000000           78.0            NaN\n",
       "1  Anna       16      F   90.000000            NaN           89.0\n",
       "2  Mike       18      M   78.500000           80.0           76.0\n",
       "3  Lucy  unknown      F   88.000000           91.0           87.0\n",
       "4   Tom       17      M   89.166667           77.0           68.0\n",
       "5   Eva   twenty      F   92.000000           85.0           91.0\n",
       "6   Ben       17    NaN   89.166667           88.0           84.0\n",
       "7   Sam       16      M   97.720000           77.0           67.0"
      ]
     },
     "execution_count": 136,
     "metadata": {},
     "output_type": "execute_result"
    }
   ],
   "source": [
    "import pandas as pd\n",
    "df = pd.read_csv('stddata.csv')\n",
    "\n",
    "#missing value filling\n",
    "df['Math_Score'] = df['Math_Score'].fillna(math_mean)\n",
    "\n",
    "\n",
    "#handling outlier\n",
    "lower_bound = df['Math_Score'].quantile(0.05)  # 5th percentile\n",
    "upper_bound = df['Math_Score'].quantile(0.92)  # 92th percentile\n",
    "\n",
    "# Winsorization: Capping the values\n",
    "df['Math_Score'] = df['Math_Score'].clip(lower=lower_bound, upper=upper_bound)\n",
    "\n",
    "df\n"
   ]
  },
  {
   "cell_type": "markdown",
   "id": "b7dc4ef8-b5b2-4d6e-945e-7cedb9019877",
   "metadata": {},
   "source": [
    "**Before Winsorization:**\n",
    "Values could range from below the 5th percentile or above the 92th percentile.\n",
    "**After Winsorization:**\n",
    "Any value below the 5th percentile is set to the 5th percentile value.\n",
    "Any value above the 95th percentile is set to the 92th percentile value."
   ]
  },
  {
   "cell_type": "markdown",
   "id": "6ee9face-b568-4313-b560-df8f67a032ec",
   "metadata": {},
   "source": [
    "**Dropping Missing Values**"
   ]
  },
  {
   "cell_type": "code",
   "execution_count": 131,
   "id": "cd9be92b-d0af-45f7-b166-15df628102eb",
   "metadata": {},
   "outputs": [
    {
     "data": {
      "text/html": [
       "<div>\n",
       "<style scoped>\n",
       "    .dataframe tbody tr th:only-of-type {\n",
       "        vertical-align: middle;\n",
       "    }\n",
       "\n",
       "    .dataframe tbody tr th {\n",
       "        vertical-align: top;\n",
       "    }\n",
       "\n",
       "    .dataframe thead th {\n",
       "        text-align: right;\n",
       "    }\n",
       "</style>\n",
       "<table border=\"1\" class=\"dataframe\">\n",
       "  <thead>\n",
       "    <tr style=\"text-align: right;\">\n",
       "      <th></th>\n",
       "      <th>Name</th>\n",
       "      <th>Age</th>\n",
       "      <th>Gender</th>\n",
       "      <th>Math_Score</th>\n",
       "      <th>Science_Score</th>\n",
       "      <th>English_Score</th>\n",
       "    </tr>\n",
       "  </thead>\n",
       "  <tbody>\n",
       "    <tr>\n",
       "      <th>0</th>\n",
       "      <td>John</td>\n",
       "      <td>17</td>\n",
       "      <td>M</td>\n",
       "      <td>85.0</td>\n",
       "      <td>78.0</td>\n",
       "      <td>NaN</td>\n",
       "    </tr>\n",
       "    <tr>\n",
       "      <th>1</th>\n",
       "      <td>Anna</td>\n",
       "      <td>16</td>\n",
       "      <td>F</td>\n",
       "      <td>90.0</td>\n",
       "      <td>NaN</td>\n",
       "      <td>89.0</td>\n",
       "    </tr>\n",
       "    <tr>\n",
       "      <th>2</th>\n",
       "      <td>Mike</td>\n",
       "      <td>18</td>\n",
       "      <td>M</td>\n",
       "      <td>75.0</td>\n",
       "      <td>80.0</td>\n",
       "      <td>76.0</td>\n",
       "    </tr>\n",
       "    <tr>\n",
       "      <th>3</th>\n",
       "      <td>Lucy</td>\n",
       "      <td>unknown</td>\n",
       "      <td>F</td>\n",
       "      <td>88.0</td>\n",
       "      <td>91.0</td>\n",
       "      <td>87.0</td>\n",
       "    </tr>\n",
       "    <tr>\n",
       "      <th>4</th>\n",
       "      <td>Tom</td>\n",
       "      <td>17</td>\n",
       "      <td>M</td>\n",
       "      <td>NaN</td>\n",
       "      <td>77.0</td>\n",
       "      <td>68.0</td>\n",
       "    </tr>\n",
       "    <tr>\n",
       "      <th>5</th>\n",
       "      <td>Eva</td>\n",
       "      <td>twenty</td>\n",
       "      <td>F</td>\n",
       "      <td>92.0</td>\n",
       "      <td>85.0</td>\n",
       "      <td>91.0</td>\n",
       "    </tr>\n",
       "    <tr>\n",
       "      <th>6</th>\n",
       "      <td>Ben</td>\n",
       "      <td>17</td>\n",
       "      <td>NaN</td>\n",
       "      <td>NaN</td>\n",
       "      <td>88.0</td>\n",
       "      <td>84.0</td>\n",
       "    </tr>\n",
       "    <tr>\n",
       "      <th>7</th>\n",
       "      <td>Sam</td>\n",
       "      <td>16</td>\n",
       "      <td>M</td>\n",
       "      <td>105.0</td>\n",
       "      <td>77.0</td>\n",
       "      <td>67.0</td>\n",
       "    </tr>\n",
       "  </tbody>\n",
       "</table>\n",
       "</div>"
      ],
      "text/plain": [
       "   Name      Age Gender  Math_Score  Science_Score  English_Score\n",
       "0  John       17      M        85.0           78.0            NaN\n",
       "1  Anna       16      F        90.0            NaN           89.0\n",
       "2  Mike       18      M        75.0           80.0           76.0\n",
       "3  Lucy  unknown      F        88.0           91.0           87.0\n",
       "4   Tom       17      M         NaN           77.0           68.0\n",
       "5   Eva   twenty      F        92.0           85.0           91.0\n",
       "6   Ben       17    NaN         NaN           88.0           84.0\n",
       "7   Sam       16      M       105.0           77.0           67.0"
      ]
     },
     "execution_count": 131,
     "metadata": {},
     "output_type": "execute_result"
    }
   ],
   "source": [
    "df = pd.read_csv('stddata.csv')\n",
    "df"
   ]
  },
  {
   "cell_type": "code",
   "execution_count": 133,
   "id": "1d033a5c-4f9a-4f94-bce3-216d66d76d9e",
   "metadata": {},
   "outputs": [
    {
     "data": {
      "text/html": [
       "<div>\n",
       "<style scoped>\n",
       "    .dataframe tbody tr th:only-of-type {\n",
       "        vertical-align: middle;\n",
       "    }\n",
       "\n",
       "    .dataframe tbody tr th {\n",
       "        vertical-align: top;\n",
       "    }\n",
       "\n",
       "    .dataframe thead th {\n",
       "        text-align: right;\n",
       "    }\n",
       "</style>\n",
       "<table border=\"1\" class=\"dataframe\">\n",
       "  <thead>\n",
       "    <tr style=\"text-align: right;\">\n",
       "      <th></th>\n",
       "      <th>Name</th>\n",
       "      <th>Age</th>\n",
       "      <th>Gender</th>\n",
       "      <th>Math_Score</th>\n",
       "      <th>Science_Score</th>\n",
       "      <th>English_Score</th>\n",
       "    </tr>\n",
       "  </thead>\n",
       "  <tbody>\n",
       "    <tr>\n",
       "      <th>2</th>\n",
       "      <td>Mike</td>\n",
       "      <td>18</td>\n",
       "      <td>M</td>\n",
       "      <td>75.0</td>\n",
       "      <td>80.0</td>\n",
       "      <td>76.0</td>\n",
       "    </tr>\n",
       "    <tr>\n",
       "      <th>3</th>\n",
       "      <td>Lucy</td>\n",
       "      <td>unknown</td>\n",
       "      <td>F</td>\n",
       "      <td>88.0</td>\n",
       "      <td>91.0</td>\n",
       "      <td>87.0</td>\n",
       "    </tr>\n",
       "    <tr>\n",
       "      <th>5</th>\n",
       "      <td>Eva</td>\n",
       "      <td>twenty</td>\n",
       "      <td>F</td>\n",
       "      <td>92.0</td>\n",
       "      <td>85.0</td>\n",
       "      <td>91.0</td>\n",
       "    </tr>\n",
       "    <tr>\n",
       "      <th>7</th>\n",
       "      <td>Sam</td>\n",
       "      <td>16</td>\n",
       "      <td>M</td>\n",
       "      <td>105.0</td>\n",
       "      <td>77.0</td>\n",
       "      <td>67.0</td>\n",
       "    </tr>\n",
       "  </tbody>\n",
       "</table>\n",
       "</div>"
      ],
      "text/plain": [
       "   Name      Age Gender  Math_Score  Science_Score  English_Score\n",
       "2  Mike       18      M        75.0           80.0           76.0\n",
       "3  Lucy  unknown      F        88.0           91.0           87.0\n",
       "5   Eva   twenty      F        92.0           85.0           91.0\n",
       "7   Sam       16      M       105.0           77.0           67.0"
      ]
     },
     "execution_count": 133,
     "metadata": {},
     "output_type": "execute_result"
    }
   ],
   "source": [
    "# Drop rows with any missing values\n",
    "df_dropped = df.dropna()\n",
    "df_dropped"
   ]
  },
  {
   "cell_type": "markdown",
   "id": "10b6b1a4-f56e-4515-a9c9-869c2354b6bf",
   "metadata": {},
   "source": [
    "**Filling missing values for multiple columns at once**"
   ]
  },
  {
   "cell_type": "code",
   "execution_count": 136,
   "id": "9ddf4031-13af-40d4-be07-ffed15eeb9e5",
   "metadata": {},
   "outputs": [
    {
     "data": {
      "text/html": [
       "<div>\n",
       "<style scoped>\n",
       "    .dataframe tbody tr th:only-of-type {\n",
       "        vertical-align: middle;\n",
       "    }\n",
       "\n",
       "    .dataframe tbody tr th {\n",
       "        vertical-align: top;\n",
       "    }\n",
       "\n",
       "    .dataframe thead th {\n",
       "        text-align: right;\n",
       "    }\n",
       "</style>\n",
       "<table border=\"1\" class=\"dataframe\">\n",
       "  <thead>\n",
       "    <tr style=\"text-align: right;\">\n",
       "      <th></th>\n",
       "      <th>Name</th>\n",
       "      <th>Age</th>\n",
       "      <th>Gender</th>\n",
       "      <th>Math_Score</th>\n",
       "      <th>Science_Score</th>\n",
       "      <th>English_Score</th>\n",
       "    </tr>\n",
       "  </thead>\n",
       "  <tbody>\n",
       "    <tr>\n",
       "      <th>0</th>\n",
       "      <td>John</td>\n",
       "      <td>17</td>\n",
       "      <td>M</td>\n",
       "      <td>85.0</td>\n",
       "      <td>78.0</td>\n",
       "      <td>NaN</td>\n",
       "    </tr>\n",
       "    <tr>\n",
       "      <th>1</th>\n",
       "      <td>Anna</td>\n",
       "      <td>16</td>\n",
       "      <td>F</td>\n",
       "      <td>90.0</td>\n",
       "      <td>NaN</td>\n",
       "      <td>89.0</td>\n",
       "    </tr>\n",
       "    <tr>\n",
       "      <th>2</th>\n",
       "      <td>Mike</td>\n",
       "      <td>18</td>\n",
       "      <td>M</td>\n",
       "      <td>75.0</td>\n",
       "      <td>80.0</td>\n",
       "      <td>76.0</td>\n",
       "    </tr>\n",
       "    <tr>\n",
       "      <th>3</th>\n",
       "      <td>Lucy</td>\n",
       "      <td>unknown</td>\n",
       "      <td>F</td>\n",
       "      <td>88.0</td>\n",
       "      <td>91.0</td>\n",
       "      <td>87.0</td>\n",
       "    </tr>\n",
       "    <tr>\n",
       "      <th>4</th>\n",
       "      <td>Tom</td>\n",
       "      <td>17</td>\n",
       "      <td>M</td>\n",
       "      <td>NaN</td>\n",
       "      <td>77.0</td>\n",
       "      <td>68.0</td>\n",
       "    </tr>\n",
       "    <tr>\n",
       "      <th>5</th>\n",
       "      <td>Eva</td>\n",
       "      <td>twenty</td>\n",
       "      <td>F</td>\n",
       "      <td>92.0</td>\n",
       "      <td>85.0</td>\n",
       "      <td>91.0</td>\n",
       "    </tr>\n",
       "    <tr>\n",
       "      <th>6</th>\n",
       "      <td>Ben</td>\n",
       "      <td>17</td>\n",
       "      <td>NaN</td>\n",
       "      <td>NaN</td>\n",
       "      <td>88.0</td>\n",
       "      <td>84.0</td>\n",
       "    </tr>\n",
       "    <tr>\n",
       "      <th>7</th>\n",
       "      <td>Sam</td>\n",
       "      <td>16</td>\n",
       "      <td>M</td>\n",
       "      <td>105.0</td>\n",
       "      <td>77.0</td>\n",
       "      <td>67.0</td>\n",
       "    </tr>\n",
       "  </tbody>\n",
       "</table>\n",
       "</div>"
      ],
      "text/plain": [
       "   Name      Age Gender  Math_Score  Science_Score  English_Score\n",
       "0  John       17      M        85.0           78.0            NaN\n",
       "1  Anna       16      F        90.0            NaN           89.0\n",
       "2  Mike       18      M        75.0           80.0           76.0\n",
       "3  Lucy  unknown      F        88.0           91.0           87.0\n",
       "4   Tom       17      M         NaN           77.0           68.0\n",
       "5   Eva   twenty      F        92.0           85.0           91.0\n",
       "6   Ben       17    NaN         NaN           88.0           84.0\n",
       "7   Sam       16      M       105.0           77.0           67.0"
      ]
     },
     "execution_count": 136,
     "metadata": {},
     "output_type": "execute_result"
    }
   ],
   "source": [
    "df"
   ]
  },
  {
   "cell_type": "code",
   "execution_count": 140,
   "id": "a9867224-81c5-403c-b79c-079974ccb0b6",
   "metadata": {},
   "outputs": [
    {
     "data": {
      "text/html": [
       "<div>\n",
       "<style scoped>\n",
       "    .dataframe tbody tr th:only-of-type {\n",
       "        vertical-align: middle;\n",
       "    }\n",
       "\n",
       "    .dataframe tbody tr th {\n",
       "        vertical-align: top;\n",
       "    }\n",
       "\n",
       "    .dataframe thead th {\n",
       "        text-align: right;\n",
       "    }\n",
       "</style>\n",
       "<table border=\"1\" class=\"dataframe\">\n",
       "  <thead>\n",
       "    <tr style=\"text-align: right;\">\n",
       "      <th></th>\n",
       "      <th>Math_Score</th>\n",
       "      <th>Science_Score</th>\n",
       "      <th>English_Score</th>\n",
       "    </tr>\n",
       "  </thead>\n",
       "  <tbody>\n",
       "    <tr>\n",
       "      <th>0</th>\n",
       "      <td>85.0</td>\n",
       "      <td>78.0</td>\n",
       "      <td>NaN</td>\n",
       "    </tr>\n",
       "    <tr>\n",
       "      <th>1</th>\n",
       "      <td>90.0</td>\n",
       "      <td>NaN</td>\n",
       "      <td>89.0</td>\n",
       "    </tr>\n",
       "    <tr>\n",
       "      <th>2</th>\n",
       "      <td>75.0</td>\n",
       "      <td>80.0</td>\n",
       "      <td>76.0</td>\n",
       "    </tr>\n",
       "    <tr>\n",
       "      <th>3</th>\n",
       "      <td>88.0</td>\n",
       "      <td>91.0</td>\n",
       "      <td>87.0</td>\n",
       "    </tr>\n",
       "    <tr>\n",
       "      <th>4</th>\n",
       "      <td>NaN</td>\n",
       "      <td>77.0</td>\n",
       "      <td>68.0</td>\n",
       "    </tr>\n",
       "    <tr>\n",
       "      <th>5</th>\n",
       "      <td>92.0</td>\n",
       "      <td>85.0</td>\n",
       "      <td>91.0</td>\n",
       "    </tr>\n",
       "    <tr>\n",
       "      <th>6</th>\n",
       "      <td>NaN</td>\n",
       "      <td>88.0</td>\n",
       "      <td>84.0</td>\n",
       "    </tr>\n",
       "    <tr>\n",
       "      <th>7</th>\n",
       "      <td>105.0</td>\n",
       "      <td>77.0</td>\n",
       "      <td>67.0</td>\n",
       "    </tr>\n",
       "  </tbody>\n",
       "</table>\n",
       "</div>"
      ],
      "text/plain": [
       "   Math_Score  Science_Score  English_Score\n",
       "0        85.0           78.0            NaN\n",
       "1        90.0            NaN           89.0\n",
       "2        75.0           80.0           76.0\n",
       "3        88.0           91.0           87.0\n",
       "4         NaN           77.0           68.0\n",
       "5        92.0           85.0           91.0\n",
       "6         NaN           88.0           84.0\n",
       "7       105.0           77.0           67.0"
      ]
     },
     "execution_count": 140,
     "metadata": {},
     "output_type": "execute_result"
    }
   ],
   "source": [
    "df[['Math_Score', 'Science_Score', 'English_Score']]"
   ]
  },
  {
   "cell_type": "code",
   "execution_count": 144,
   "id": "0dd7586b-ee87-4a73-b607-7ecc565d8093",
   "metadata": {},
   "outputs": [
    {
     "data": {
      "text/html": [
       "<div>\n",
       "<style scoped>\n",
       "    .dataframe tbody tr th:only-of-type {\n",
       "        vertical-align: middle;\n",
       "    }\n",
       "\n",
       "    .dataframe tbody tr th {\n",
       "        vertical-align: top;\n",
       "    }\n",
       "\n",
       "    .dataframe thead th {\n",
       "        text-align: right;\n",
       "    }\n",
       "</style>\n",
       "<table border=\"1\" class=\"dataframe\">\n",
       "  <thead>\n",
       "    <tr style=\"text-align: right;\">\n",
       "      <th></th>\n",
       "      <th>Math_Score</th>\n",
       "      <th>Science_Score</th>\n",
       "      <th>English_Score</th>\n",
       "    </tr>\n",
       "  </thead>\n",
       "  <tbody>\n",
       "    <tr>\n",
       "      <th>0</th>\n",
       "      <td>85.0</td>\n",
       "      <td>78.0</td>\n",
       "      <td>0.0</td>\n",
       "    </tr>\n",
       "    <tr>\n",
       "      <th>1</th>\n",
       "      <td>90.0</td>\n",
       "      <td>0.0</td>\n",
       "      <td>89.0</td>\n",
       "    </tr>\n",
       "    <tr>\n",
       "      <th>2</th>\n",
       "      <td>75.0</td>\n",
       "      <td>80.0</td>\n",
       "      <td>76.0</td>\n",
       "    </tr>\n",
       "    <tr>\n",
       "      <th>3</th>\n",
       "      <td>88.0</td>\n",
       "      <td>91.0</td>\n",
       "      <td>87.0</td>\n",
       "    </tr>\n",
       "    <tr>\n",
       "      <th>4</th>\n",
       "      <td>0.0</td>\n",
       "      <td>77.0</td>\n",
       "      <td>68.0</td>\n",
       "    </tr>\n",
       "    <tr>\n",
       "      <th>5</th>\n",
       "      <td>92.0</td>\n",
       "      <td>85.0</td>\n",
       "      <td>91.0</td>\n",
       "    </tr>\n",
       "    <tr>\n",
       "      <th>6</th>\n",
       "      <td>0.0</td>\n",
       "      <td>88.0</td>\n",
       "      <td>84.0</td>\n",
       "    </tr>\n",
       "    <tr>\n",
       "      <th>7</th>\n",
       "      <td>105.0</td>\n",
       "      <td>77.0</td>\n",
       "      <td>67.0</td>\n",
       "    </tr>\n",
       "  </tbody>\n",
       "</table>\n",
       "</div>"
      ],
      "text/plain": [
       "   Math_Score  Science_Score  English_Score\n",
       "0        85.0           78.0            0.0\n",
       "1        90.0            0.0           89.0\n",
       "2        75.0           80.0           76.0\n",
       "3        88.0           91.0           87.0\n",
       "4         0.0           77.0           68.0\n",
       "5        92.0           85.0           91.0\n",
       "6         0.0           88.0           84.0\n",
       "7       105.0           77.0           67.0"
      ]
     },
     "execution_count": 144,
     "metadata": {},
     "output_type": "execute_result"
    }
   ],
   "source": [
    "# Fill missing values with a specific value (e.g., 0 for scores)\n",
    "df_filled = df.fillna({'Math_Score': 0, 'Science_Score': 0, 'English_Score': 0})\n",
    "df_filled[['Math_Score', 'Science_Score', 'English_Score']]\n"
   ]
  },
  {
   "cell_type": "code",
   "execution_count": 146,
   "id": "f5d02ebe-e3bb-49f2-8474-cad0132ecf86",
   "metadata": {},
   "outputs": [
    {
     "data": {
      "text/html": [
       "<div>\n",
       "<style scoped>\n",
       "    .dataframe tbody tr th:only-of-type {\n",
       "        vertical-align: middle;\n",
       "    }\n",
       "\n",
       "    .dataframe tbody tr th {\n",
       "        vertical-align: top;\n",
       "    }\n",
       "\n",
       "    .dataframe thead th {\n",
       "        text-align: right;\n",
       "    }\n",
       "</style>\n",
       "<table border=\"1\" class=\"dataframe\">\n",
       "  <thead>\n",
       "    <tr style=\"text-align: right;\">\n",
       "      <th></th>\n",
       "      <th>Name</th>\n",
       "      <th>Age</th>\n",
       "      <th>Gender</th>\n",
       "      <th>Math_Score</th>\n",
       "      <th>Science_Score</th>\n",
       "      <th>English_Score</th>\n",
       "    </tr>\n",
       "  </thead>\n",
       "  <tbody>\n",
       "    <tr>\n",
       "      <th>0</th>\n",
       "      <td>John</td>\n",
       "      <td>17</td>\n",
       "      <td>M</td>\n",
       "      <td>85.0</td>\n",
       "      <td>78.0</td>\n",
       "      <td>NaN</td>\n",
       "    </tr>\n",
       "    <tr>\n",
       "      <th>1</th>\n",
       "      <td>Anna</td>\n",
       "      <td>16</td>\n",
       "      <td>F</td>\n",
       "      <td>90.0</td>\n",
       "      <td>NaN</td>\n",
       "      <td>89.0</td>\n",
       "    </tr>\n",
       "    <tr>\n",
       "      <th>2</th>\n",
       "      <td>Mike</td>\n",
       "      <td>18</td>\n",
       "      <td>M</td>\n",
       "      <td>75.0</td>\n",
       "      <td>80.0</td>\n",
       "      <td>76.0</td>\n",
       "    </tr>\n",
       "    <tr>\n",
       "      <th>3</th>\n",
       "      <td>Lucy</td>\n",
       "      <td>unknown</td>\n",
       "      <td>F</td>\n",
       "      <td>88.0</td>\n",
       "      <td>91.0</td>\n",
       "      <td>87.0</td>\n",
       "    </tr>\n",
       "    <tr>\n",
       "      <th>4</th>\n",
       "      <td>Tom</td>\n",
       "      <td>17</td>\n",
       "      <td>M</td>\n",
       "      <td>NaN</td>\n",
       "      <td>77.0</td>\n",
       "      <td>68.0</td>\n",
       "    </tr>\n",
       "    <tr>\n",
       "      <th>5</th>\n",
       "      <td>Eva</td>\n",
       "      <td>twenty</td>\n",
       "      <td>F</td>\n",
       "      <td>92.0</td>\n",
       "      <td>85.0</td>\n",
       "      <td>91.0</td>\n",
       "    </tr>\n",
       "    <tr>\n",
       "      <th>6</th>\n",
       "      <td>Ben</td>\n",
       "      <td>17</td>\n",
       "      <td>NaN</td>\n",
       "      <td>NaN</td>\n",
       "      <td>88.0</td>\n",
       "      <td>84.0</td>\n",
       "    </tr>\n",
       "    <tr>\n",
       "      <th>7</th>\n",
       "      <td>Sam</td>\n",
       "      <td>16</td>\n",
       "      <td>M</td>\n",
       "      <td>105.0</td>\n",
       "      <td>77.0</td>\n",
       "      <td>67.0</td>\n",
       "    </tr>\n",
       "  </tbody>\n",
       "</table>\n",
       "</div>"
      ],
      "text/plain": [
       "   Name      Age Gender  Math_Score  Science_Score  English_Score\n",
       "0  John       17      M        85.0           78.0            NaN\n",
       "1  Anna       16      F        90.0            NaN           89.0\n",
       "2  Mike       18      M        75.0           80.0           76.0\n",
       "3  Lucy  unknown      F        88.0           91.0           87.0\n",
       "4   Tom       17      M         NaN           77.0           68.0\n",
       "5   Eva   twenty      F        92.0           85.0           91.0\n",
       "6   Ben       17    NaN         NaN           88.0           84.0\n",
       "7   Sam       16      M       105.0           77.0           67.0"
      ]
     },
     "execution_count": 146,
     "metadata": {},
     "output_type": "execute_result"
    }
   ],
   "source": [
    "df"
   ]
  },
  {
   "cell_type": "code",
   "execution_count": 150,
   "id": "68da5e1f-605e-4046-9d25-eb6dc466388b",
   "metadata": {},
   "outputs": [
    {
     "data": {
      "text/html": [
       "<div>\n",
       "<style scoped>\n",
       "    .dataframe tbody tr th:only-of-type {\n",
       "        vertical-align: middle;\n",
       "    }\n",
       "\n",
       "    .dataframe tbody tr th {\n",
       "        vertical-align: top;\n",
       "    }\n",
       "\n",
       "    .dataframe thead th {\n",
       "        text-align: right;\n",
       "    }\n",
       "</style>\n",
       "<table border=\"1\" class=\"dataframe\">\n",
       "  <thead>\n",
       "    <tr style=\"text-align: right;\">\n",
       "      <th></th>\n",
       "      <th>Name</th>\n",
       "      <th>Age</th>\n",
       "      <th>Gender</th>\n",
       "      <th>Math_Score</th>\n",
       "      <th>Science_Score</th>\n",
       "      <th>English_Score</th>\n",
       "    </tr>\n",
       "  </thead>\n",
       "  <tbody>\n",
       "    <tr>\n",
       "      <th>0</th>\n",
       "      <td>John</td>\n",
       "      <td>17</td>\n",
       "      <td>M</td>\n",
       "      <td>85.0</td>\n",
       "      <td>78.0</td>\n",
       "      <td>60.0</td>\n",
       "    </tr>\n",
       "    <tr>\n",
       "      <th>1</th>\n",
       "      <td>Anna</td>\n",
       "      <td>16</td>\n",
       "      <td>F</td>\n",
       "      <td>90.0</td>\n",
       "      <td>50.0</td>\n",
       "      <td>89.0</td>\n",
       "    </tr>\n",
       "    <tr>\n",
       "      <th>2</th>\n",
       "      <td>Mike</td>\n",
       "      <td>18</td>\n",
       "      <td>M</td>\n",
       "      <td>75.0</td>\n",
       "      <td>80.0</td>\n",
       "      <td>76.0</td>\n",
       "    </tr>\n",
       "    <tr>\n",
       "      <th>3</th>\n",
       "      <td>Lucy</td>\n",
       "      <td>unknown</td>\n",
       "      <td>F</td>\n",
       "      <td>88.0</td>\n",
       "      <td>91.0</td>\n",
       "      <td>87.0</td>\n",
       "    </tr>\n",
       "    <tr>\n",
       "      <th>4</th>\n",
       "      <td>Tom</td>\n",
       "      <td>17</td>\n",
       "      <td>M</td>\n",
       "      <td>0.0</td>\n",
       "      <td>77.0</td>\n",
       "      <td>68.0</td>\n",
       "    </tr>\n",
       "    <tr>\n",
       "      <th>5</th>\n",
       "      <td>Eva</td>\n",
       "      <td>twenty</td>\n",
       "      <td>F</td>\n",
       "      <td>92.0</td>\n",
       "      <td>85.0</td>\n",
       "      <td>91.0</td>\n",
       "    </tr>\n",
       "    <tr>\n",
       "      <th>6</th>\n",
       "      <td>Ben</td>\n",
       "      <td>17</td>\n",
       "      <td>NaN</td>\n",
       "      <td>0.0</td>\n",
       "      <td>88.0</td>\n",
       "      <td>84.0</td>\n",
       "    </tr>\n",
       "    <tr>\n",
       "      <th>7</th>\n",
       "      <td>Sam</td>\n",
       "      <td>16</td>\n",
       "      <td>M</td>\n",
       "      <td>105.0</td>\n",
       "      <td>77.0</td>\n",
       "      <td>67.0</td>\n",
       "    </tr>\n",
       "  </tbody>\n",
       "</table>\n",
       "</div>"
      ],
      "text/plain": [
       "   Name      Age Gender  Math_Score  Science_Score  English_Score\n",
       "0  John       17      M        85.0           78.0           60.0\n",
       "1  Anna       16      F        90.0           50.0           89.0\n",
       "2  Mike       18      M        75.0           80.0           76.0\n",
       "3  Lucy  unknown      F        88.0           91.0           87.0\n",
       "4   Tom       17      M         0.0           77.0           68.0\n",
       "5   Eva   twenty      F        92.0           85.0           91.0\n",
       "6   Ben       17    NaN         0.0           88.0           84.0\n",
       "7   Sam       16      M       105.0           77.0           67.0"
      ]
     },
     "execution_count": 150,
     "metadata": {},
     "output_type": "execute_result"
    }
   ],
   "source": [
    "# Fill missing values with different specific values for each column\n",
    "fill_values = {'Math_Score': 0, 'Science_Score': 50, 'English_Score': 60}\n",
    "df.fillna(fill_values, inplace=True)\n",
    "\n",
    "df"
   ]
  },
  {
   "cell_type": "markdown",
   "id": "77f8ba30-b6a2-481c-8d7b-157381a04b2e",
   "metadata": {},
   "source": [
    "**Perform linear interpolation**"
   ]
  },
  {
   "cell_type": "code",
   "execution_count": 153,
   "id": "0b313cf6-7441-4588-a695-967b309b93dc",
   "metadata": {},
   "outputs": [
    {
     "data": {
      "text/html": [
       "<div>\n",
       "<style scoped>\n",
       "    .dataframe tbody tr th:only-of-type {\n",
       "        vertical-align: middle;\n",
       "    }\n",
       "\n",
       "    .dataframe tbody tr th {\n",
       "        vertical-align: top;\n",
       "    }\n",
       "\n",
       "    .dataframe thead th {\n",
       "        text-align: right;\n",
       "    }\n",
       "</style>\n",
       "<table border=\"1\" class=\"dataframe\">\n",
       "  <thead>\n",
       "    <tr style=\"text-align: right;\">\n",
       "      <th></th>\n",
       "      <th>Name</th>\n",
       "      <th>Age</th>\n",
       "      <th>Gender</th>\n",
       "      <th>Math_Score</th>\n",
       "      <th>Science_Score</th>\n",
       "      <th>English_Score</th>\n",
       "    </tr>\n",
       "  </thead>\n",
       "  <tbody>\n",
       "    <tr>\n",
       "      <th>0</th>\n",
       "      <td>John</td>\n",
       "      <td>17</td>\n",
       "      <td>M</td>\n",
       "      <td>85.0</td>\n",
       "      <td>78.0</td>\n",
       "      <td>NaN</td>\n",
       "    </tr>\n",
       "    <tr>\n",
       "      <th>1</th>\n",
       "      <td>Anna</td>\n",
       "      <td>16</td>\n",
       "      <td>F</td>\n",
       "      <td>90.0</td>\n",
       "      <td>NaN</td>\n",
       "      <td>89.0</td>\n",
       "    </tr>\n",
       "    <tr>\n",
       "      <th>2</th>\n",
       "      <td>Mike</td>\n",
       "      <td>18</td>\n",
       "      <td>M</td>\n",
       "      <td>75.0</td>\n",
       "      <td>80.0</td>\n",
       "      <td>76.0</td>\n",
       "    </tr>\n",
       "    <tr>\n",
       "      <th>3</th>\n",
       "      <td>Lucy</td>\n",
       "      <td>unknown</td>\n",
       "      <td>F</td>\n",
       "      <td>88.0</td>\n",
       "      <td>91.0</td>\n",
       "      <td>87.0</td>\n",
       "    </tr>\n",
       "    <tr>\n",
       "      <th>4</th>\n",
       "      <td>Tom</td>\n",
       "      <td>17</td>\n",
       "      <td>M</td>\n",
       "      <td>NaN</td>\n",
       "      <td>77.0</td>\n",
       "      <td>68.0</td>\n",
       "    </tr>\n",
       "    <tr>\n",
       "      <th>5</th>\n",
       "      <td>Eva</td>\n",
       "      <td>twenty</td>\n",
       "      <td>F</td>\n",
       "      <td>92.0</td>\n",
       "      <td>85.0</td>\n",
       "      <td>91.0</td>\n",
       "    </tr>\n",
       "    <tr>\n",
       "      <th>6</th>\n",
       "      <td>Ben</td>\n",
       "      <td>17</td>\n",
       "      <td>NaN</td>\n",
       "      <td>NaN</td>\n",
       "      <td>88.0</td>\n",
       "      <td>84.0</td>\n",
       "    </tr>\n",
       "    <tr>\n",
       "      <th>7</th>\n",
       "      <td>Sam</td>\n",
       "      <td>16</td>\n",
       "      <td>M</td>\n",
       "      <td>105.0</td>\n",
       "      <td>77.0</td>\n",
       "      <td>67.0</td>\n",
       "    </tr>\n",
       "  </tbody>\n",
       "</table>\n",
       "</div>"
      ],
      "text/plain": [
       "   Name      Age Gender  Math_Score  Science_Score  English_Score\n",
       "0  John       17      M        85.0           78.0            NaN\n",
       "1  Anna       16      F        90.0            NaN           89.0\n",
       "2  Mike       18      M        75.0           80.0           76.0\n",
       "3  Lucy  unknown      F        88.0           91.0           87.0\n",
       "4   Tom       17      M         NaN           77.0           68.0\n",
       "5   Eva   twenty      F        92.0           85.0           91.0\n",
       "6   Ben       17    NaN         NaN           88.0           84.0\n",
       "7   Sam       16      M       105.0           77.0           67.0"
      ]
     },
     "execution_count": 153,
     "metadata": {},
     "output_type": "execute_result"
    }
   ],
   "source": [
    "df = pd.read_csv('stddata.csv')\n",
    "df"
   ]
  },
  {
   "cell_type": "code",
   "execution_count": 157,
   "id": "75a0283a-429c-47c3-9d35-44a186606d48",
   "metadata": {},
   "outputs": [],
   "source": [
    "\n",
    "# Linearly interpolate missing values in 'Math_Score'\n",
    "df['Math_Score'] = df['Math_Score'].interpolate(method='linear')"
   ]
  },
  {
   "cell_type": "code",
   "execution_count": 159,
   "id": "a0eb48ef-ac7d-4eb3-92e3-52801b1f6d33",
   "metadata": {},
   "outputs": [
    {
     "data": {
      "text/plain": [
       "0     85.0\n",
       "1     90.0\n",
       "2     75.0\n",
       "3     88.0\n",
       "4     90.0\n",
       "5     92.0\n",
       "6     98.5\n",
       "7    105.0\n",
       "Name: Math_Score, dtype: float64"
      ]
     },
     "execution_count": 159,
     "metadata": {},
     "output_type": "execute_result"
    }
   ],
   "source": [
    "df['Math_Score']"
   ]
  },
  {
   "cell_type": "markdown",
   "id": "c37be28b-ca77-426a-96bf-9d9096629b78",
   "metadata": {},
   "source": [
    "**The linear interpolation formula is:**\n",
    "y = y1 + (x - x1) * (y2 - y1) / (x2 - x1)\n",
    "Where:\n",
    "\n",
    "y is the estimated value at the unknown point (index 2)\n",
    "y1 and y2 are the known values at the two surrounding points (index 1 and 3)\n",
    "x1 and x2 are the corresponding index values of the known points (1 and 3)\n",
    "x is the index value of the unknown point (2)\n",
    "Plugging in the values:\n",
    "\n",
    "y1 = 88 (the value at index 3)<br>\n",
    "y2 = 92 (the value at index 5)<br>\n",
    "x1 = 3 (the index of y1)<br>\n",
    "x2 = 5 (the index of y2)<br>\n",
    "x = 4 (the index of the unknown value)<br>\n",
    "y = 88 + (4 - 3) * (92 - 88) / (5 - 3) = 90"
   ]
  },
  {
   "attachments": {
    "896a091c-315c-462b-b28d-57272003bdfd.png": {
     "image/png": "[encoded data removed]"
    }
   },
   "cell_type": "markdown",
   "id": "bd499937-a4c5-402f-ba48-3d2a31e96855",
   "metadata": {},
   "source": [
    "![image.png](attachment:896a091c-315c-462b-b28d-57272003bdfd.png)"
   ]
  },
  {
   "cell_type": "code",
   "execution_count": 2,
   "id": "7c913a14-4cb0-461d-a514-ab81b65d68fc",
   "metadata": {},
   "outputs": [],
   "source": [
    "import numpy as np\n",
    "import pandas as pd"
   ]
  },
  {
   "cell_type": "code",
   "execution_count": 8,
   "id": "818f4793-581b-48d8-b544-7b9ccf566597",
   "metadata": {},
   "outputs": [
    {
     "data": {
      "text/html": [
       "<div>\n",
       "<style scoped>\n",
       "    .dataframe tbody tr th:only-of-type {\n",
       "        vertical-align: middle;\n",
       "    }\n",
       "\n",
       "    .dataframe tbody tr th {\n",
       "        vertical-align: top;\n",
       "    }\n",
       "\n",
       "    .dataframe thead th {\n",
       "        text-align: right;\n",
       "    }\n",
       "</style>\n",
       "<table border=\"1\" class=\"dataframe\">\n",
       "  <thead>\n",
       "    <tr style=\"text-align: right;\">\n",
       "      <th></th>\n",
       "      <th>A</th>\n",
       "      <th>B</th>\n",
       "      <th>C</th>\n",
       "    </tr>\n",
       "  </thead>\n",
       "  <tbody>\n",
       "    <tr>\n",
       "      <th>0</th>\n",
       "      <td>1</td>\n",
       "      <td>2</td>\n",
       "      <td>3</td>\n",
       "    </tr>\n",
       "    <tr>\n",
       "      <th>1</th>\n",
       "      <td>1</td>\n",
       "      <td>4</td>\n",
       "      <td>5</td>\n",
       "    </tr>\n",
       "    <tr>\n",
       "      <th>2</th>\n",
       "      <td>1</td>\n",
       "      <td>2</td>\n",
       "      <td>6</td>\n",
       "    </tr>\n",
       "    <tr>\n",
       "      <th>3</th>\n",
       "      <td>7</td>\n",
       "      <td>8</td>\n",
       "      <td>9</td>\n",
       "    </tr>\n",
       "    <tr>\n",
       "      <th>4</th>\n",
       "      <td>7</td>\n",
       "      <td>8</td>\n",
       "      <td>9</td>\n",
       "    </tr>\n",
       "  </tbody>\n",
       "</table>\n",
       "</div>"
      ],
      "text/plain": [
       "   A  B  C\n",
       "0  1  2  3\n",
       "1  1  4  5\n",
       "2  1  2  6\n",
       "3  7  8  9\n",
       "4  7  8  9"
      ]
     },
     "execution_count": 8,
     "metadata": {},
     "output_type": "execute_result"
    }
   ],
   "source": [
    "data = {\n",
    "\"A\" : [1,1,1,7,7],\n",
    "\"B\" : [2,4,2,8,8],\n",
    "\"C\": [3,5,6,9,9]\n",
    "}\n",
    "df = pd.DataFrame(data)\n",
    "df"
   ]
  },
  {
   "cell_type": "markdown",
   "id": "36e476c0-3b05-4d77-9665-7b62e3234004",
   "metadata": {},
   "source": [
    "**The effect of df.drop_duplicates(inplace=True) is as follows:**\n",
    "> **Identifying Duplicates:** The method first identifies the duplicate rows in the DataFrame. It does this by considering all the columns in the DataFrame and identifying rows where the values in all the columns are identical.<br>\n",
    "> **Removing Duplicates:** Once the duplicate rows are identified, the method removes these rows from the DataFrame. Only the first occurrence of each unique combination of values across all the columns is retained, and the duplicate rows are removed."
   ]
  },
  {
   "cell_type": "raw",
   "id": "342b82ae-4c06-455d-9d61-88854d8d7cc9",
   "metadata": {},
   "source": [
    "The method considers the entire row, not just individual columns, when identifying and removing duplicates."
   ]
  },
  {
   "cell_type": "code",
   "execution_count": 12,
   "id": "3e000a32-688a-4e3a-afad-0eda508d9fbf",
   "metadata": {},
   "outputs": [],
   "source": [
    "df.drop_duplicates(inplace=True)"
   ]
  },
  {
   "cell_type": "code",
   "execution_count": 14,
   "id": "9787edc8-9a63-42f0-b8b0-a7dadb9667a4",
   "metadata": {},
   "outputs": [
    {
     "data": {
      "text/html": [
       "<div>\n",
       "<style scoped>\n",
       "    .dataframe tbody tr th:only-of-type {\n",
       "        vertical-align: middle;\n",
       "    }\n",
       "\n",
       "    .dataframe tbody tr th {\n",
       "        vertical-align: top;\n",
       "    }\n",
       "\n",
       "    .dataframe thead th {\n",
       "        text-align: right;\n",
       "    }\n",
       "</style>\n",
       "<table border=\"1\" class=\"dataframe\">\n",
       "  <thead>\n",
       "    <tr style=\"text-align: right;\">\n",
       "      <th></th>\n",
       "      <th>A</th>\n",
       "      <th>B</th>\n",
       "      <th>C</th>\n",
       "    </tr>\n",
       "  </thead>\n",
       "  <tbody>\n",
       "    <tr>\n",
       "      <th>0</th>\n",
       "      <td>1</td>\n",
       "      <td>2</td>\n",
       "      <td>3</td>\n",
       "    </tr>\n",
       "    <tr>\n",
       "      <th>1</th>\n",
       "      <td>1</td>\n",
       "      <td>4</td>\n",
       "      <td>5</td>\n",
       "    </tr>\n",
       "    <tr>\n",
       "      <th>2</th>\n",
       "      <td>1</td>\n",
       "      <td>2</td>\n",
       "      <td>6</td>\n",
       "    </tr>\n",
       "    <tr>\n",
       "      <th>3</th>\n",
       "      <td>7</td>\n",
       "      <td>8</td>\n",
       "      <td>9</td>\n",
       "    </tr>\n",
       "  </tbody>\n",
       "</table>\n",
       "</div>"
      ],
      "text/plain": [
       "   A  B  C\n",
       "0  1  2  3\n",
       "1  1  4  5\n",
       "2  1  2  6\n",
       "3  7  8  9"
      ]
     },
     "execution_count": 14,
     "metadata": {},
     "output_type": "execute_result"
    }
   ],
   "source": [
    "df"
   ]
  },
  {
   "cell_type": "markdown",
   "id": "eef1223c-3eab-4682-9fc3-9a6456b9de5c",
   "metadata": {},
   "source": [
    "> Only the rows with index 3 and 4, which have identical values across all columns, are considered duplicates and are removed."
   ]
  },
  {
   "cell_type": "markdown",
   "id": "c9a8afb0-f475-4957-a615-a11fcae8ddc0",
   "metadata": {},
   "source": [
    "> If you want to remove rows based on the similarity of a specific column or a subset of columns, you can use the subset parameter in the drop_duplicates() method. \n",
    "> <br>For example, **df.drop_duplicates(subset=['A']**, inplace=True) will remove rows with duplicate values in column A, even if the other columns are different."
   ]
  },
  {
   "cell_type": "code",
   "execution_count": 19,
   "id": "f03a00e9-aa76-4ea0-b512-494c939ffc03",
   "metadata": {},
   "outputs": [],
   "source": [
    "df.drop_duplicates(subset=['A'], inplace=True)"
   ]
  },
  {
   "cell_type": "code",
   "execution_count": 21,
   "id": "039bd7e0-a211-4e94-b498-895d86cedf58",
   "metadata": {},
   "outputs": [
    {
     "data": {
      "text/html": [
       "<div>\n",
       "<style scoped>\n",
       "    .dataframe tbody tr th:only-of-type {\n",
       "        vertical-align: middle;\n",
       "    }\n",
       "\n",
       "    .dataframe tbody tr th {\n",
       "        vertical-align: top;\n",
       "    }\n",
       "\n",
       "    .dataframe thead th {\n",
       "        text-align: right;\n",
       "    }\n",
       "</style>\n",
       "<table border=\"1\" class=\"dataframe\">\n",
       "  <thead>\n",
       "    <tr style=\"text-align: right;\">\n",
       "      <th></th>\n",
       "      <th>A</th>\n",
       "      <th>B</th>\n",
       "      <th>C</th>\n",
       "    </tr>\n",
       "  </thead>\n",
       "  <tbody>\n",
       "    <tr>\n",
       "      <th>0</th>\n",
       "      <td>1</td>\n",
       "      <td>2</td>\n",
       "      <td>3</td>\n",
       "    </tr>\n",
       "    <tr>\n",
       "      <th>3</th>\n",
       "      <td>7</td>\n",
       "      <td>8</td>\n",
       "      <td>9</td>\n",
       "    </tr>\n",
       "  </tbody>\n",
       "</table>\n",
       "</div>"
      ],
      "text/plain": [
       "   A  B  C\n",
       "0  1  2  3\n",
       "3  7  8  9"
      ]
     },
     "execution_count": 21,
     "metadata": {},
     "output_type": "execute_result"
    }
   ],
   "source": [
    "df"
   ]
  },
  {
   "cell_type": "code",
   "execution_count": 30,
   "id": "073c01cf-0fd0-4b46-83df-cbdf43adeceb",
   "metadata": {},
   "outputs": [
    {
     "data": {
      "text/html": [
       "<div>\n",
       "<style scoped>\n",
       "    .dataframe tbody tr th:only-of-type {\n",
       "        vertical-align: middle;\n",
       "    }\n",
       "\n",
       "    .dataframe tbody tr th {\n",
       "        vertical-align: top;\n",
       "    }\n",
       "\n",
       "    .dataframe thead th {\n",
       "        text-align: right;\n",
       "    }\n",
       "</style>\n",
       "<table border=\"1\" class=\"dataframe\">\n",
       "  <thead>\n",
       "    <tr style=\"text-align: right;\">\n",
       "      <th></th>\n",
       "      <th>EmployeeID</th>\n",
       "      <th>Name</th>\n",
       "      <th>Department</th>\n",
       "      <th>Salary</th>\n",
       "    </tr>\n",
       "  </thead>\n",
       "  <tbody>\n",
       "    <tr>\n",
       "      <th>0</th>\n",
       "      <td>101</td>\n",
       "      <td>John Doe</td>\n",
       "      <td>Sales</td>\n",
       "      <td>55000</td>\n",
       "    </tr>\n",
       "    <tr>\n",
       "      <th>1</th>\n",
       "      <td>102</td>\n",
       "      <td>Jane Smith</td>\n",
       "      <td>Marketing</td>\n",
       "      <td>60000</td>\n",
       "    </tr>\n",
       "    <tr>\n",
       "      <th>2</th>\n",
       "      <td>103</td>\n",
       "      <td>John Doe</td>\n",
       "      <td>Sales</td>\n",
       "      <td>55000</td>\n",
       "    </tr>\n",
       "    <tr>\n",
       "      <th>3</th>\n",
       "      <td>104</td>\n",
       "      <td>Alice Johnson</td>\n",
       "      <td>HR</td>\n",
       "      <td>62000</td>\n",
       "    </tr>\n",
       "    <tr>\n",
       "      <th>4</th>\n",
       "      <td>105</td>\n",
       "      <td>Bob Brown</td>\n",
       "      <td>Sales</td>\n",
       "      <td>55000</td>\n",
       "    </tr>\n",
       "    <tr>\n",
       "      <th>5</th>\n",
       "      <td>106</td>\n",
       "      <td>Jane Smith</td>\n",
       "      <td>Marketing</td>\n",
       "      <td>60000</td>\n",
       "    </tr>\n",
       "    <tr>\n",
       "      <th>6</th>\n",
       "      <td>107</td>\n",
       "      <td>Charlie Wilson</td>\n",
       "      <td>IT</td>\n",
       "      <td>70000</td>\n",
       "    </tr>\n",
       "    <tr>\n",
       "      <th>7</th>\n",
       "      <td>108</td>\n",
       "      <td>Charlie Wilson</td>\n",
       "      <td>IT</td>\n",
       "      <td>70000</td>\n",
       "    </tr>\n",
       "  </tbody>\n",
       "</table>\n",
       "</div>"
      ],
      "text/plain": [
       "   EmployeeID            Name Department  Salary\n",
       "0         101        John Doe      Sales   55000\n",
       "1         102      Jane Smith  Marketing   60000\n",
       "2         103        John Doe      Sales   55000\n",
       "3         104   Alice Johnson         HR   62000\n",
       "4         105       Bob Brown      Sales   55000\n",
       "5         106      Jane Smith  Marketing   60000\n",
       "6         107  Charlie Wilson         IT   70000\n",
       "7         108  Charlie Wilson         IT   70000"
      ]
     },
     "execution_count": 30,
     "metadata": {},
     "output_type": "execute_result"
    }
   ],
   "source": [
    "import pandas as pd\n",
    "\n",
    "df = pd.read_csv('studentdata1.csv')\n",
    "df"
   ]
  },
  {
   "cell_type": "markdown",
   "id": "bd8f667c-ffc4-4f3f-9a78-0e69e6c6bd3c",
   "metadata": {},
   "source": [
    "**Identifying Duplicates**"
   ]
  },
  {
   "cell_type": "code",
   "execution_count": 36,
   "id": "bf2c62c4-f3d0-46b1-acfb-ec1b02ba5fb1",
   "metadata": {},
   "outputs": [
    {
     "data": {
      "text/plain": [
       "EmployeeID\n",
       "101    False\n",
       "102    False\n",
       "103     True\n",
       "104    False\n",
       "105    False\n",
       "106     True\n",
       "107    False\n",
       "108     True\n",
       "dtype: bool"
      ]
     },
     "execution_count": 36,
     "metadata": {},
     "output_type": "execute_result"
    }
   ],
   "source": [
    "df = df.set_index('EmployeeID')\n",
    "df.duplicated()"
   ]
  },
  {
   "cell_type": "markdown",
   "id": "06a951bf-8061-41e3-b841-c92a65d98206",
   "metadata": {},
   "source": [
    "**The duplicated() method identifies the duplicate rows in the DataFrame.**"
   ]
  },
  {
   "cell_type": "markdown",
   "id": "8d5e9d45-980e-4574-a99b-7b4d3e4c63bf",
   "metadata": {},
   "source": [
    "**Identify duplicates:**"
   ]
  },
  {
   "cell_type": "code",
   "execution_count": 55,
   "id": "fb711b90-b0de-4959-99d3-ca0e01735d63",
   "metadata": {},
   "outputs": [
    {
     "data": {
      "text/plain": [
       "EmployeeID\n",
       "101    False\n",
       "102    False\n",
       "103     True\n",
       "104    False\n",
       "105    False\n",
       "106     True\n",
       "107    False\n",
       "108     True\n",
       "dtype: bool"
      ]
     },
     "execution_count": 55,
     "metadata": {},
     "output_type": "execute_result"
    }
   ],
   "source": [
    "# Identify all duplicate rows\n",
    "dup_rows = df.duplicated()\n",
    "dup_rows"
   ]
  },
  {
   "cell_type": "code",
   "execution_count": 57,
   "id": "511c866f-9402-493e-ba2c-426a34d6fd96",
   "metadata": {},
   "outputs": [
    {
     "name": "stdout",
     "output_type": "stream",
     "text": [
      "                      Name Department  Salary\n",
      "EmployeeID                                   \n",
      "103               John Doe      Sales   55000\n",
      "106             Jane Smith  Marketing   60000\n",
      "108         Charlie Wilson         IT   70000\n"
     ]
    }
   ],
   "source": [
    "duplicates = df[dup_rows]\n",
    "print(duplicates)"
   ]
  },
  {
   "cell_type": "code",
   "execution_count": 59,
   "id": "b4d3a554-dbd9-45ae-afda-9e3ddcbbb65c",
   "metadata": {},
   "outputs": [
    {
     "name": "stdout",
     "output_type": "stream",
     "text": [
      "                      Name Department  Salary\n",
      "EmployeeID                                   \n",
      "103               John Doe      Sales   55000\n",
      "106             Jane Smith  Marketing   60000\n",
      "108         Charlie Wilson         IT   70000\n"
     ]
    }
   ],
   "source": [
    "# Identify all duplicate rows\n",
    "duplicates = df[df.duplicated()]\n",
    "print(duplicates)\n"
   ]
  },
  {
   "cell_type": "code",
   "execution_count": null,
   "id": "ee4e24d0-dd85-47b1-a9a7-b32b9e8783dd",
   "metadata": {},
   "outputs": [],
   "source": []
  },
  {
   "cell_type": "markdown",
   "id": "b96278a2-2fd4-4fe2-90a3-6e07f87d22a3",
   "metadata": {},
   "source": [
    "**Removing Duplicates**"
   ]
  },
  {
   "cell_type": "code",
   "execution_count": 42,
   "id": "3818d468-91cd-4806-ba35-5a9530e9f807",
   "metadata": {},
   "outputs": [
    {
     "data": {
      "text/html": [
       "<div>\n",
       "<style scoped>\n",
       "    .dataframe tbody tr th:only-of-type {\n",
       "        vertical-align: middle;\n",
       "    }\n",
       "\n",
       "    .dataframe tbody tr th {\n",
       "        vertical-align: top;\n",
       "    }\n",
       "\n",
       "    .dataframe thead th {\n",
       "        text-align: right;\n",
       "    }\n",
       "</style>\n",
       "<table border=\"1\" class=\"dataframe\">\n",
       "  <thead>\n",
       "    <tr style=\"text-align: right;\">\n",
       "      <th></th>\n",
       "      <th>Name</th>\n",
       "      <th>Department</th>\n",
       "      <th>Salary</th>\n",
       "    </tr>\n",
       "    <tr>\n",
       "      <th>EmployeeID</th>\n",
       "      <th></th>\n",
       "      <th></th>\n",
       "      <th></th>\n",
       "    </tr>\n",
       "  </thead>\n",
       "  <tbody>\n",
       "    <tr>\n",
       "      <th>101</th>\n",
       "      <td>John Doe</td>\n",
       "      <td>Sales</td>\n",
       "      <td>55000</td>\n",
       "    </tr>\n",
       "    <tr>\n",
       "      <th>102</th>\n",
       "      <td>Jane Smith</td>\n",
       "      <td>Marketing</td>\n",
       "      <td>60000</td>\n",
       "    </tr>\n",
       "    <tr>\n",
       "      <th>103</th>\n",
       "      <td>John Doe</td>\n",
       "      <td>Sales</td>\n",
       "      <td>55000</td>\n",
       "    </tr>\n",
       "    <tr>\n",
       "      <th>104</th>\n",
       "      <td>Alice Johnson</td>\n",
       "      <td>HR</td>\n",
       "      <td>62000</td>\n",
       "    </tr>\n",
       "    <tr>\n",
       "      <th>105</th>\n",
       "      <td>Bob Brown</td>\n",
       "      <td>Sales</td>\n",
       "      <td>55000</td>\n",
       "    </tr>\n",
       "    <tr>\n",
       "      <th>106</th>\n",
       "      <td>Jane Smith</td>\n",
       "      <td>Marketing</td>\n",
       "      <td>60000</td>\n",
       "    </tr>\n",
       "    <tr>\n",
       "      <th>107</th>\n",
       "      <td>Charlie Wilson</td>\n",
       "      <td>IT</td>\n",
       "      <td>70000</td>\n",
       "    </tr>\n",
       "    <tr>\n",
       "      <th>108</th>\n",
       "      <td>Charlie Wilson</td>\n",
       "      <td>IT</td>\n",
       "      <td>70000</td>\n",
       "    </tr>\n",
       "  </tbody>\n",
       "</table>\n",
       "</div>"
      ],
      "text/plain": [
       "                      Name Department  Salary\n",
       "EmployeeID                                   \n",
       "101               John Doe      Sales   55000\n",
       "102             Jane Smith  Marketing   60000\n",
       "103               John Doe      Sales   55000\n",
       "104          Alice Johnson         HR   62000\n",
       "105              Bob Brown      Sales   55000\n",
       "106             Jane Smith  Marketing   60000\n",
       "107         Charlie Wilson         IT   70000\n",
       "108         Charlie Wilson         IT   70000"
      ]
     },
     "execution_count": 42,
     "metadata": {},
     "output_type": "execute_result"
    }
   ],
   "source": [
    "df"
   ]
  },
  {
   "cell_type": "code",
   "execution_count": 44,
   "id": "aff7f411-09a5-462d-93a4-a625f2bcf7c9",
   "metadata": {},
   "outputs": [
    {
     "name": "stdout",
     "output_type": "stream",
     "text": [
      "                      Name Department  Salary\n",
      "EmployeeID                                   \n",
      "101               John Doe      Sales   55000\n",
      "102             Jane Smith  Marketing   60000\n",
      "104          Alice Johnson         HR   62000\n",
      "105              Bob Brown      Sales   55000\n",
      "107         Charlie Wilson         IT   70000\n"
     ]
    }
   ],
   "source": [
    "# Drop duplicates and keep the first occurrence\n",
    "df_deduped = df.drop_duplicates()\n",
    "print(df_deduped)"
   ]
  },
  {
   "cell_type": "markdown",
   "id": "c2b40cae-29d2-443a-9b2b-39fef4400773",
   "metadata": {},
   "source": [
    "> The drop_duplicates() method removes the duplicate rows, keeping only the first occurrence of each unique combination of values."
   ]
  },
  {
   "cell_type": "code",
   "execution_count": 61,
   "id": "f39ff879-43fa-4d3e-a960-bd66e016dbc2",
   "metadata": {},
   "outputs": [
    {
     "name": "stdout",
     "output_type": "stream",
     "text": [
      "                      Name Department  Salary\n",
      "EmployeeID                                   \n",
      "103               John Doe      Sales   55000\n",
      "104          Alice Johnson         HR   62000\n",
      "105              Bob Brown      Sales   55000\n",
      "106             Jane Smith  Marketing   60000\n",
      "108         Charlie Wilson         IT   70000\n"
     ]
    }
   ],
   "source": [
    "# Drop duplicates and keep the last occurrence\n",
    "df_keep_last = df.drop_duplicates(keep='last')\n",
    "print(df_keep_last)"
   ]
  },
  {
   "cell_type": "markdown",
   "id": "35df5ab4-01d0-4abd-8753-23043f4dc491",
   "metadata": {},
   "source": [
    "**Handling Duplicates Based on Specific Columns**"
   ]
  },
  {
   "cell_type": "code",
   "execution_count": 48,
   "id": "6c8eebf7-ba00-4ae5-904a-60fbc9515dd7",
   "metadata": {},
   "outputs": [
    {
     "name": "stdout",
     "output_type": "stream",
     "text": [
      "                      Name Department  Salary\n",
      "EmployeeID                                   \n",
      "103               John Doe      Sales   55000\n",
      "104          Alice Johnson         HR   62000\n",
      "105              Bob Brown      Sales   55000\n",
      "106             Jane Smith  Marketing   60000\n",
      "108         Charlie Wilson         IT   70000\n"
     ]
    }
   ],
   "source": [
    "# Keep the last occurrence of each unique combination of 'Name' and 'Department'\n",
    "df_deduped = df.drop_duplicates(subset=['Name', 'Department'], keep='last')\n",
    "print(df_deduped)"
   ]
  },
  {
   "cell_type": "code",
   "execution_count": null,
   "id": "0c1774e6-2f04-41f7-9486-d459e879fdab",
   "metadata": {},
   "outputs": [],
   "source": []
  }
 ],
 "metadata": {
  "kernelspec": {
   "display_name": "Python 3 (ipykernel)",
   "language": "python",
   "name": "python3"
  },
  "language_info": {
   "codemirror_mode": {
    "name": "ipython",
    "version": 3
   },
   "file_extension": ".py",
   "mimetype": "text/x-python",
   "name": "python",
   "nbconvert_exporter": "python",
   "pygments_lexer": "ipython3",
   "version": "3.12.4"
  }
 },
 "nbformat": 4,
 "nbformat_minor": 5
}
